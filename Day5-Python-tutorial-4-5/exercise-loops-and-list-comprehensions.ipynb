{
 "cells": [
  {
   "cell_type": "markdown",
   "id": "16aaf35e",
   "metadata": {
    "papermill": {
     "duration": 0.00903,
     "end_time": "2022-09-04T14:11:25.020160",
     "exception": false,
     "start_time": "2022-09-04T14:11:25.011130",
     "status": "completed"
    },
    "tags": []
   },
   "source": [
    "**This notebook is an exercise in the [Python](https://www.kaggle.com/learn/python) course.  You can reference the tutorial at [this link](https://www.kaggle.com/colinmorris/loops-and-list-comprehensions).**\n",
    "\n",
    "---\n"
   ]
  },
  {
   "cell_type": "markdown",
   "id": "176d7385",
   "metadata": {
    "papermill": {
     "duration": 0.006372,
     "end_time": "2022-09-04T14:11:25.033415",
     "exception": false,
     "start_time": "2022-09-04T14:11:25.027043",
     "status": "completed"
    },
    "tags": []
   },
   "source": [
    "With all you've learned, you can start writing much more interesting programs. See if you can solve the problems below.\n",
    "\n",
    "As always, run the setup code below before working on the questions."
   ]
  },
  {
   "cell_type": "code",
   "execution_count": 1,
   "id": "c665b92e",
   "metadata": {
    "execution": {
     "iopub.execute_input": "2022-09-04T14:11:25.052415Z",
     "iopub.status.busy": "2022-09-04T14:11:25.051919Z",
     "iopub.status.idle": "2022-09-04T14:11:25.121473Z",
     "shell.execute_reply": "2022-09-04T14:11:25.120224Z"
    },
    "papermill": {
     "duration": 0.083243,
     "end_time": "2022-09-04T14:11:25.126054",
     "exception": false,
     "start_time": "2022-09-04T14:11:25.042811",
     "status": "completed"
    },
    "tags": []
   },
   "outputs": [
    {
     "name": "stdout",
     "output_type": "stream",
     "text": [
      "Setup complete.\n"
     ]
    }
   ],
   "source": [
    "from learntools.core import binder; binder.bind(globals())\n",
    "from learntools.python.ex5 import *\n",
    "print('Setup complete.')"
   ]
  },
  {
   "cell_type": "markdown",
   "id": "4ffdc069",
   "metadata": {
    "papermill": {
     "duration": 0.00524,
     "end_time": "2022-09-04T14:11:25.137388",
     "exception": false,
     "start_time": "2022-09-04T14:11:25.132148",
     "status": "completed"
    },
    "tags": []
   },
   "source": [
    "# 1.\n",
    "\n",
    "Have you ever felt debugging involved a bit of luck? The following program has a bug. Try to identify the bug and fix it."
   ]
  },
  {
   "cell_type": "code",
   "execution_count": 2,
   "id": "fe199846",
   "metadata": {
    "execution": {
     "iopub.execute_input": "2022-09-04T14:11:25.150289Z",
     "iopub.status.busy": "2022-09-04T14:11:25.149265Z",
     "iopub.status.idle": "2022-09-04T14:11:25.154936Z",
     "shell.execute_reply": "2022-09-04T14:11:25.154087Z"
    },
    "papermill": {
     "duration": 0.014337,
     "end_time": "2022-09-04T14:11:25.157053",
     "exception": false,
     "start_time": "2022-09-04T14:11:25.142716",
     "status": "completed"
    },
    "tags": []
   },
   "outputs": [],
   "source": [
    "def has_lucky_number(nums):\n",
    "    \"\"\"Return whether the given list of numbers is lucky. A lucky list contains\n",
    "    at least one number divisible by 7.\n",
    "    \"\"\"\n",
    "    for num in nums:\n",
    "        if num % 7 == 0:\n",
    "            return True\n",
    "    return False"
   ]
  },
  {
   "cell_type": "markdown",
   "id": "96a9078f",
   "metadata": {
    "papermill": {
     "duration": 0.005292,
     "end_time": "2022-09-04T14:11:25.168371",
     "exception": false,
     "start_time": "2022-09-04T14:11:25.163079",
     "status": "completed"
    },
    "tags": []
   },
   "source": [
    "Try to identify the bug and fix it in the cell below:"
   ]
  },
  {
   "cell_type": "code",
   "execution_count": 3,
   "id": "e0c7a292",
   "metadata": {
    "execution": {
     "iopub.execute_input": "2022-09-04T14:11:25.181778Z",
     "iopub.status.busy": "2022-09-04T14:11:25.181226Z",
     "iopub.status.idle": "2022-09-04T14:11:25.193549Z",
     "shell.execute_reply": "2022-09-04T14:11:25.192359Z"
    },
    "papermill": {
     "duration": 0.022083,
     "end_time": "2022-09-04T14:11:25.196119",
     "exception": false,
     "start_time": "2022-09-04T14:11:25.174036",
     "status": "completed"
    },
    "tags": []
   },
   "outputs": [
    {
     "data": {
      "application/javascript": [
       "parent.postMessage({\"jupyterEvent\": \"custom.exercise_interaction\", \"data\": {\"outcomeType\": 1, \"valueTowardsCompletion\": 0.25, \"interactionType\": 1, \"questionType\": 2, \"questionId\": \"1_EarlyExitDebugging\", \"learnToolsVersion\": \"0.3.4\", \"failureMessage\": \"\", \"exceptionClass\": \"\", \"trace\": \"\"}}, \"*\")"
      ],
      "text/plain": [
       "<IPython.core.display.Javascript object>"
      ]
     },
     "metadata": {},
     "output_type": "display_data"
    },
    {
     "data": {
      "text/markdown": [
       "<span style=\"color:#33cc33\">Correct:</span> \n",
       "\n",
       "Remember that `return` causes a function to exit immediately. So our original implementation always ran for just one iteration. We can only return `False` if we've looked at every element of the list (and confirmed that none of them are lucky). Though we can return early if the answer is `True`:\n",
       "\n",
       "```python\n",
       "def has_lucky_number(nums):\n",
       "    for num in nums:\n",
       "        if num % 7 == 0:\n",
       "            return True\n",
       "    # We've exhausted the list without finding a lucky number\n",
       "    return False\n",
       "```\n",
       "\n",
       "Here's a one-line version using a list comprehension with Python's `any` function (you can read about what it does by calling `help(any)`):\n",
       "\n",
       "```python\n",
       "def has_lucky_number(nums):\n",
       "    return any([num % 7 == 0 for num in nums])\n",
       "```\n"
      ],
      "text/plain": [
       "Correct: \n",
       "\n",
       "Remember that `return` causes a function to exit immediately. So our original implementation always ran for just one iteration. We can only return `False` if we've looked at every element of the list (and confirmed that none of them are lucky). Though we can return early if the answer is `True`:\n",
       "\n",
       "```python\n",
       "def has_lucky_number(nums):\n",
       "    for num in nums:\n",
       "        if num % 7 == 0:\n",
       "            return True\n",
       "    # We've exhausted the list without finding a lucky number\n",
       "    return False\n",
       "```\n",
       "\n",
       "Here's a one-line version using a list comprehension with Python's `any` function (you can read about what it does by calling `help(any)`):\n",
       "\n",
       "```python\n",
       "def has_lucky_number(nums):\n",
       "    return any([num % 7 == 0 for num in nums])\n",
       "```"
      ]
     },
     "metadata": {},
     "output_type": "display_data"
    }
   ],
   "source": [
    "def has_lucky_number(nums):\n",
    "    \"\"\"Return whether the given list of numbers is lucky. A lucky list contains\n",
    "    at least one number divisible by 7.\n",
    "    \"\"\"\n",
    "    for num in nums:\n",
    "        if num % 7 == 0:\n",
    "            return True\n",
    "    return False\n",
    "\n",
    "# Check your answer\n",
    "q1.check()"
   ]
  },
  {
   "cell_type": "code",
   "execution_count": 4,
   "id": "7988f4da",
   "metadata": {
    "execution": {
     "iopub.execute_input": "2022-09-04T14:11:25.209848Z",
     "iopub.status.busy": "2022-09-04T14:11:25.209393Z",
     "iopub.status.idle": "2022-09-04T14:11:25.214305Z",
     "shell.execute_reply": "2022-09-04T14:11:25.213111Z"
    },
    "papermill": {
     "duration": 0.014913,
     "end_time": "2022-09-04T14:11:25.217016",
     "exception": false,
     "start_time": "2022-09-04T14:11:25.202103",
     "status": "completed"
    },
    "tags": []
   },
   "outputs": [],
   "source": [
    "#q1.hint()\n",
    "#q1.solution()"
   ]
  },
  {
   "cell_type": "markdown",
   "id": "a4ef1afb",
   "metadata": {
    "papermill": {
     "duration": 0.005636,
     "end_time": "2022-09-04T14:11:25.228878",
     "exception": false,
     "start_time": "2022-09-04T14:11:25.223242",
     "status": "completed"
    },
    "tags": []
   },
   "source": [
    "# 2.\n",
    "Look at the Python expression below. What do you think we'll get when we run it? When you've made your prediction, uncomment the code and run the cell to see if you were right."
   ]
  },
  {
   "cell_type": "code",
   "execution_count": 5,
   "id": "074fe8cd",
   "metadata": {
    "execution": {
     "iopub.execute_input": "2022-09-04T14:11:25.242701Z",
     "iopub.status.busy": "2022-09-04T14:11:25.241994Z",
     "iopub.status.idle": "2022-09-04T14:11:25.246358Z",
     "shell.execute_reply": "2022-09-04T14:11:25.245450Z"
    },
    "papermill": {
     "duration": 0.014026,
     "end_time": "2022-09-04T14:11:25.248705",
     "exception": false,
     "start_time": "2022-09-04T14:11:25.234679",
     "status": "completed"
    },
    "tags": []
   },
   "outputs": [],
   "source": [
    "#[1, 2, 3, 4] > 2"
   ]
  },
  {
   "cell_type": "markdown",
   "id": "096b3af4",
   "metadata": {
    "papermill": {
     "duration": 0.005973,
     "end_time": "2022-09-04T14:11:25.260737",
     "exception": false,
     "start_time": "2022-09-04T14:11:25.254764",
     "status": "completed"
    },
    "tags": []
   },
   "source": [
    "R and Python have some libraries (like numpy and pandas) compare each element of the list to 2 (i.e. do an 'element-wise' comparison) and give us a list of booleans like `[False, False, True, True]`. \n",
    "\n",
    "Implement a function that reproduces this behaviour, returning a list of booleans corresponding to whether the corresponding element is greater than n."
   ]
  },
  {
   "cell_type": "code",
   "execution_count": 6,
   "id": "f24aa439",
   "metadata": {
    "execution": {
     "iopub.execute_input": "2022-09-04T14:11:25.274620Z",
     "iopub.status.busy": "2022-09-04T14:11:25.274146Z",
     "iopub.status.idle": "2022-09-04T14:11:25.287883Z",
     "shell.execute_reply": "2022-09-04T14:11:25.285052Z"
    },
    "papermill": {
     "duration": 0.023493,
     "end_time": "2022-09-04T14:11:25.290377",
     "exception": false,
     "start_time": "2022-09-04T14:11:25.266884",
     "status": "completed"
    },
    "tags": []
   },
   "outputs": [
    {
     "data": {
      "application/javascript": [
       "parent.postMessage({\"jupyterEvent\": \"custom.exercise_interaction\", \"data\": {\"outcomeType\": 1, \"valueTowardsCompletion\": 0.25, \"interactionType\": 1, \"questionType\": 2, \"questionId\": \"2_ElementWiseComparison\", \"learnToolsVersion\": \"0.3.4\", \"failureMessage\": \"\", \"exceptionClass\": \"\", \"trace\": \"\"}}, \"*\")"
      ],
      "text/plain": [
       "<IPython.core.display.Javascript object>"
      ]
     },
     "metadata": {},
     "output_type": "display_data"
    },
    {
     "data": {
      "text/markdown": [
       "<span style=\"color:#33cc33\">Correct:</span> \n",
       "\n",
       "Here's one solution:\n",
       "```python\n",
       "def elementwise_greater_than(L, thresh):\n",
       "    res = []\n",
       "    for ele in L:\n",
       "        res.append(ele > thresh)\n",
       "    return res\n",
       "```\n",
       "\n",
       "And here's the list comprehension version:\n",
       "```python\n",
       "def elementwise_greater_than(L, thresh):\n",
       "    return [ele > thresh for ele in L]\n",
       "```\n"
      ],
      "text/plain": [
       "Correct: \n",
       "\n",
       "Here's one solution:\n",
       "```python\n",
       "def elementwise_greater_than(L, thresh):\n",
       "    res = []\n",
       "    for ele in L:\n",
       "        res.append(ele > thresh)\n",
       "    return res\n",
       "```\n",
       "\n",
       "And here's the list comprehension version:\n",
       "```python\n",
       "def elementwise_greater_than(L, thresh):\n",
       "    return [ele > thresh for ele in L]\n",
       "```"
      ]
     },
     "metadata": {},
     "output_type": "display_data"
    }
   ],
   "source": [
    "def elementwise_greater_than(L, thresh):\n",
    "    \"\"\"Return a list with the same length as L, where the value at index i is \n",
    "    True if L[i] is greater than thresh, and False otherwise.\n",
    "    \n",
    "    >>> elementwise_greater_than([1, 2, 3, 4], 2)\n",
    "    [False, False, True, True]\n",
    "    \"\"\"\n",
    "    out = []\n",
    "    for i in L:\n",
    "        out.append(i > thresh)\n",
    "    return out\n",
    "\n",
    "# Check your answer\n",
    "q2.check()"
   ]
  },
  {
   "cell_type": "code",
   "execution_count": 7,
   "id": "72a6a98c",
   "metadata": {
    "execution": {
     "iopub.execute_input": "2022-09-04T14:11:25.307710Z",
     "iopub.status.busy": "2022-09-04T14:11:25.306455Z",
     "iopub.status.idle": "2022-09-04T14:11:25.311852Z",
     "shell.execute_reply": "2022-09-04T14:11:25.310892Z"
    },
    "papermill": {
     "duration": 0.016844,
     "end_time": "2022-09-04T14:11:25.314195",
     "exception": false,
     "start_time": "2022-09-04T14:11:25.297351",
     "status": "completed"
    },
    "tags": []
   },
   "outputs": [],
   "source": [
    "#q2.solution()"
   ]
  },
  {
   "cell_type": "markdown",
   "id": "bcbdcf5e",
   "metadata": {
    "papermill": {
     "duration": 0.010013,
     "end_time": "2022-09-04T14:11:25.330956",
     "exception": false,
     "start_time": "2022-09-04T14:11:25.320943",
     "status": "completed"
    },
    "tags": []
   },
   "source": [
    "# 3.\n",
    "\n",
    "Complete the body of the function below according to its docstring."
   ]
  },
  {
   "cell_type": "code",
   "execution_count": 8,
   "id": "9e235dce",
   "metadata": {
    "execution": {
     "iopub.execute_input": "2022-09-04T14:11:25.348083Z",
     "iopub.status.busy": "2022-09-04T14:11:25.347128Z",
     "iopub.status.idle": "2022-09-04T14:11:25.359064Z",
     "shell.execute_reply": "2022-09-04T14:11:25.357931Z"
    },
    "papermill": {
     "duration": 0.022356,
     "end_time": "2022-09-04T14:11:25.361375",
     "exception": false,
     "start_time": "2022-09-04T14:11:25.339019",
     "status": "completed"
    },
    "tags": []
   },
   "outputs": [
    {
     "data": {
      "application/javascript": [
       "parent.postMessage({\"jupyterEvent\": \"custom.exercise_interaction\", \"data\": {\"outcomeType\": 1, \"valueTowardsCompletion\": 0.25, \"interactionType\": 1, \"questionType\": 2, \"questionId\": \"3_BoringMenu\", \"learnToolsVersion\": \"0.3.4\", \"failureMessage\": \"\", \"exceptionClass\": \"\", \"trace\": \"\"}}, \"*\")"
      ],
      "text/plain": [
       "<IPython.core.display.Javascript object>"
      ]
     },
     "metadata": {},
     "output_type": "display_data"
    },
    {
     "data": {
      "text/markdown": [
       "<span style=\"color:#33cc33\">Correct:</span> \n",
       "\n",
       "\n",
       "\n",
       "```python\n",
       "def menu_is_boring(meals):\n",
       "    # Iterate over all indices of the list, except the last one\n",
       "    for i in range(len(meals)-1):\n",
       "        if meals[i] == meals[i+1]:\n",
       "            return True\n",
       "    return False\n",
       "```\n",
       "\n",
       "The key to our solution is the call to `range`. `range(len(meals))` would give us all the indices of `meals`. If we had used that range, the last iteration of the loop would be comparing the last element to the element after it, which is... `IndexError`! `range(len(meals)-1)` gives us all the indices except the index of the last element.\n",
       "\n",
       "But don't we need to check if `meals` is empty? Turns out that `range(0) == range(-1)` - they're both empty. So if `meals` has length 0 or 1, we just won't do any iterations of our for loop.\n"
      ],
      "text/plain": [
       "Correct: \n",
       "\n",
       "\n",
       "\n",
       "```python\n",
       "def menu_is_boring(meals):\n",
       "    # Iterate over all indices of the list, except the last one\n",
       "    for i in range(len(meals)-1):\n",
       "        if meals[i] == meals[i+1]:\n",
       "            return True\n",
       "    return False\n",
       "```\n",
       "\n",
       "The key to our solution is the call to `range`. `range(len(meals))` would give us all the indices of `meals`. If we had used that range, the last iteration of the loop would be comparing the last element to the element after it, which is... `IndexError`! `range(len(meals)-1)` gives us all the indices except the index of the last element.\n",
       "\n",
       "But don't we need to check if `meals` is empty? Turns out that `range(0) == range(-1)` - they're both empty. So if `meals` has length 0 or 1, we just won't do any iterations of our for loop."
      ]
     },
     "metadata": {},
     "output_type": "display_data"
    }
   ],
   "source": [
    "def menu_is_boring(meals):\n",
    "    \"\"\"Given a list of meals served over some period of time, return True if the\n",
    "    same meal has ever been served two days in a row, and False otherwise.\n",
    "    \"\"\"\n",
    "    for i in range(len(meals)-1):\n",
    "        if meals[i] == meals[i+1]:\n",
    "            return True \n",
    "    return False \n",
    "        \n",
    "\n",
    "# Check your answer\n",
    "q3.check()"
   ]
  },
  {
   "cell_type": "code",
   "execution_count": 9,
   "id": "719aec9f",
   "metadata": {
    "execution": {
     "iopub.execute_input": "2022-09-04T14:11:25.377151Z",
     "iopub.status.busy": "2022-09-04T14:11:25.376539Z",
     "iopub.status.idle": "2022-09-04T14:11:25.382855Z",
     "shell.execute_reply": "2022-09-04T14:11:25.381673Z"
    },
    "papermill": {
     "duration": 0.017216,
     "end_time": "2022-09-04T14:11:25.385237",
     "exception": false,
     "start_time": "2022-09-04T14:11:25.368021",
     "status": "completed"
    },
    "tags": []
   },
   "outputs": [],
   "source": [
    "#q3.hint()\n",
    "#q3.solution()"
   ]
  },
  {
   "cell_type": "markdown",
   "id": "bb928f2a",
   "metadata": {
    "papermill": {
     "duration": 0.006187,
     "end_time": "2022-09-04T14:11:25.398251",
     "exception": false,
     "start_time": "2022-09-04T14:11:25.392064",
     "status": "completed"
    },
    "tags": []
   },
   "source": [
    "# 4. <span title=\"A bit spicy\" style=\"color: darkgreen \">🌶️</span>\n",
    "\n",
    "Next to the Blackjack table, the Python Challenge Casino has a slot machine. You can get a result from the slot machine by calling `play_slot_machine()`. The number it returns is your winnings in dollars. Usually it returns 0.  But sometimes you'll get lucky and get a big payday. Try running it below:"
   ]
  },
  {
   "cell_type": "code",
   "execution_count": 10,
   "id": "a837d379",
   "metadata": {
    "execution": {
     "iopub.execute_input": "2022-09-04T14:11:25.413218Z",
     "iopub.status.busy": "2022-09-04T14:11:25.412791Z",
     "iopub.status.idle": "2022-09-04T14:11:25.419257Z",
     "shell.execute_reply": "2022-09-04T14:11:25.418356Z"
    },
    "papermill": {
     "duration": 0.016888,
     "end_time": "2022-09-04T14:11:25.421755",
     "exception": false,
     "start_time": "2022-09-04T14:11:25.404867",
     "status": "completed"
    },
    "tags": []
   },
   "outputs": [
    {
     "data": {
      "text/plain": [
       "0"
      ]
     },
     "execution_count": 10,
     "metadata": {},
     "output_type": "execute_result"
    }
   ],
   "source": [
    "play_slot_machine()"
   ]
  },
  {
   "cell_type": "markdown",
   "id": "4dbf628f",
   "metadata": {
    "papermill": {
     "duration": 0.006614,
     "end_time": "2022-09-04T14:11:25.435230",
     "exception": false,
     "start_time": "2022-09-04T14:11:25.428616",
     "status": "completed"
    },
    "tags": []
   },
   "source": [
    "By the way, did we mention that each play costs $1? Don't worry, we'll send you the bill later.\n",
    "\n",
    "On average, how much money can you expect to gain (or lose) every time you play the machine?  The casino keeps it a secret, but you can estimate the average value of each pull using a technique called the **Monte Carlo method**. To estimate the average outcome, we simulate the scenario many times, and return the average result.\n",
    "\n",
    "Complete the following function to calculate the average value per play of the slot machine."
   ]
  },
  {
   "cell_type": "code",
   "execution_count": 11,
   "id": "395f3fef",
   "metadata": {
    "execution": {
     "iopub.execute_input": "2022-09-04T14:11:25.450539Z",
     "iopub.status.busy": "2022-09-04T14:11:25.450067Z",
     "iopub.status.idle": "2022-09-04T14:11:25.456152Z",
     "shell.execute_reply": "2022-09-04T14:11:25.454992Z"
    },
    "papermill": {
     "duration": 0.016474,
     "end_time": "2022-09-04T14:11:25.458399",
     "exception": false,
     "start_time": "2022-09-04T14:11:25.441925",
     "status": "completed"
    },
    "tags": []
   },
   "outputs": [],
   "source": [
    "def estimate_average_slot_payout(n_runs):\n",
    "    \"\"\"Run the slot machine n_runs times and return the average net profit per run.\n",
    "    Example calls (note that return value is nondeterministic!):\n",
    "    >>> estimate_average_slot_payout(1)\n",
    "    -1\n",
    "    >>> estimate_average_slot_payout(1)\n",
    "    0.5\n",
    "    \"\"\"\n",
    "    sum = 0.0\n",
    "    for i in range(n_runs):\n",
    "        sum += play_slot_machine() - 1\n",
    "    return sum / n_runs"
   ]
  },
  {
   "cell_type": "markdown",
   "id": "d76010d9",
   "metadata": {
    "papermill": {
     "duration": 0.006674,
     "end_time": "2022-09-04T14:11:25.472279",
     "exception": false,
     "start_time": "2022-09-04T14:11:25.465605",
     "status": "completed"
    },
    "tags": []
   },
   "source": [
    "When you think you know the expected value per spin, run the code cell below to view the solution and get credit for answering the question."
   ]
  },
  {
   "cell_type": "code",
   "execution_count": 12,
   "id": "aca0a2b2",
   "metadata": {
    "execution": {
     "iopub.execute_input": "2022-09-04T14:11:25.488342Z",
     "iopub.status.busy": "2022-09-04T14:11:25.487633Z",
     "iopub.status.idle": "2022-09-04T14:11:25.495815Z",
     "shell.execute_reply": "2022-09-04T14:11:25.494552Z"
    },
    "papermill": {
     "duration": 0.018824,
     "end_time": "2022-09-04T14:11:25.498113",
     "exception": false,
     "start_time": "2022-09-04T14:11:25.479289",
     "status": "completed"
    },
    "tags": []
   },
   "outputs": [
    {
     "data": {
      "application/javascript": [
       "parent.postMessage({\"jupyterEvent\": \"custom.exercise_interaction\", \"data\": {\"interactionType\": 3, \"questionType\": 4, \"questionId\": \"4_ExpectedSlotsPayout\", \"learnToolsVersion\": \"0.3.4\", \"valueTowardsCompletion\": 0.0, \"failureMessage\": \"\", \"exceptionClass\": \"\", \"trace\": \"\", \"outcomeType\": 4}}, \"*\")"
      ],
      "text/plain": [
       "<IPython.core.display.Javascript object>"
      ]
     },
     "metadata": {},
     "output_type": "display_data"
    },
    {
     "data": {
      "text/markdown": [
       "<span style=\"color:#33cc99\">Solution:</span> \n",
       "    \n",
       "The exact expected value of one pull of the slot machine is 0.025 - i.e. a little more than 2 cents.  See?  Not every game in the Python Challenge Casino is rigged against the player!\n",
       "\n",
       "In order to get this answer, you'll need to implement the `estimate_average_slot_payout(n_runs)` function to simulate pulling the slot machine `n_runs` times.  It should return the payout averaged over those `n_runs`.\n",
       "\n",
       "Then, once the function is defined, in order to estimate the average slot payout, we need only call the function.\n",
       "\n",
       "Because of the high variance of the outcome (there are some very rare high payout results that significantly affect the average) you might need to run your function with a very high value of `n_runs` to get a stable answer close to the true expectation.  For instance, you might use a value for `n_runs` of 1000000.\n",
       "\n",
       "Here's an example for how the function could look:\n",
       "```python\n",
       "def estimate_average_slot_payout(n_runs):\n",
       "    # Play slot machine n_runs times, calculate payout of each\n",
       "    payouts = [play_slot_machine()-1 for i in range(n_runs)]\n",
       "    # Calculate the average value\n",
       "    avg_payout = sum(payouts) / n_runs\n",
       "    return avg_payout\n",
       "    \n",
       "estimate_average_slot_payout(10000000)\n",
       "\n",
       "```\n",
       "\n",
       "This should return an answer close to 0.025!\n",
       "            \n"
      ],
      "text/plain": [
       "Solution: \n",
       "    \n",
       "The exact expected value of one pull of the slot machine is 0.025 - i.e. a little more than 2 cents.  See?  Not every game in the Python Challenge Casino is rigged against the player!\n",
       "\n",
       "In order to get this answer, you'll need to implement the `estimate_average_slot_payout(n_runs)` function to simulate pulling the slot machine `n_runs` times.  It should return the payout averaged over those `n_runs`.\n",
       "\n",
       "Then, once the function is defined, in order to estimate the average slot payout, we need only call the function.\n",
       "\n",
       "Because of the high variance of the outcome (there are some very rare high payout results that significantly affect the average) you might need to run your function with a very high value of `n_runs` to get a stable answer close to the true expectation.  For instance, you might use a value for `n_runs` of 1000000.\n",
       "\n",
       "Here's an example for how the function could look:\n",
       "```python\n",
       "def estimate_average_slot_payout(n_runs):\n",
       "    # Play slot machine n_runs times, calculate payout of each\n",
       "    payouts = [play_slot_machine()-1 for i in range(n_runs)]\n",
       "    # Calculate the average value\n",
       "    avg_payout = sum(payouts) / n_runs\n",
       "    return avg_payout\n",
       "    \n",
       "estimate_average_slot_payout(10000000)\n",
       "\n",
       "```\n",
       "\n",
       "This should return an answer close to 0.025!\n",
       "            "
      ]
     },
     "metadata": {},
     "output_type": "display_data"
    }
   ],
   "source": [
    "# Check your answer (Run this code cell to receive credit!)\n",
    "q4.solution()"
   ]
  },
  {
   "cell_type": "markdown",
   "id": "f64807fb",
   "metadata": {
    "papermill": {
     "duration": 0.006709,
     "end_time": "2022-09-04T14:11:25.512250",
     "exception": false,
     "start_time": "2022-09-04T14:11:25.505541",
     "status": "completed"
    },
    "tags": []
   },
   "source": [
    "# Keep Going\n",
    "\n",
    "Many programmers report that dictionaries are their favorite data structure. You'll get to **[learn about them](https://www.kaggle.com/colinmorris/strings-and-dictionaries)** (as well as strings) in the next lesson."
   ]
  },
  {
   "cell_type": "markdown",
   "id": "e17e470b",
   "metadata": {
    "papermill": {
     "duration": 0.00663,
     "end_time": "2022-09-04T14:11:25.526376",
     "exception": false,
     "start_time": "2022-09-04T14:11:25.519746",
     "status": "completed"
    },
    "tags": []
   },
   "source": [
    "---\n",
    "\n",
    "\n",
    "\n",
    "\n",
    "*Have questions or comments? Visit the [course discussion forum](https://www.kaggle.com/learn/python/discussion) to chat with other learners.*"
   ]
  }
 ],
 "metadata": {
  "kernelspec": {
   "display_name": "Python 3",
   "language": "python",
   "name": "python3"
  },
  "language_info": {
   "codemirror_mode": {
    "name": "ipython",
    "version": 3
   },
   "file_extension": ".py",
   "mimetype": "text/x-python",
   "name": "python",
   "nbconvert_exporter": "python",
   "pygments_lexer": "ipython3",
   "version": "3.7.12"
  },
  "papermill": {
   "default_parameters": {},
   "duration": 10.906538,
   "end_time": "2022-09-04T14:11:26.156857",
   "environment_variables": {},
   "exception": null,
   "input_path": "__notebook__.ipynb",
   "output_path": "__notebook__.ipynb",
   "parameters": {},
   "start_time": "2022-09-04T14:11:15.250319",
   "version": "2.3.4"
  }
 },
 "nbformat": 4,
 "nbformat_minor": 5
}

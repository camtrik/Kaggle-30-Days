{
 "cells": [
  {
   "cell_type": "markdown",
   "id": "6ec719ac",
   "metadata": {
    "papermill": {
     "duration": 0.005949,
     "end_time": "2022-09-04T13:53:51.595605",
     "exception": false,
     "start_time": "2022-09-04T13:53:51.589656",
     "status": "completed"
    },
    "tags": []
   },
   "source": [
    "**This notebook is an exercise in the [Python](https://www.kaggle.com/learn/python) course.  You can reference the tutorial at [this link](https://www.kaggle.com/colinmorris/lists).**\n",
    "\n",
    "---\n"
   ]
  },
  {
   "cell_type": "markdown",
   "id": "56ef4203",
   "metadata": {
    "papermill": {
     "duration": 0.004342,
     "end_time": "2022-09-04T13:53:51.604812",
     "exception": false,
     "start_time": "2022-09-04T13:53:51.600470",
     "status": "completed"
    },
    "tags": []
   },
   "source": [
    "Things get more interesting with lists. You'll apply your new knowledge to solve the questions below. Remember to run the following cell first."
   ]
  },
  {
   "cell_type": "code",
   "execution_count": 1,
   "id": "9201c0c1",
   "metadata": {
    "execution": {
     "iopub.execute_input": "2022-09-04T13:53:51.616232Z",
     "iopub.status.busy": "2022-09-04T13:53:51.615419Z",
     "iopub.status.idle": "2022-09-04T13:53:51.665740Z",
     "shell.execute_reply": "2022-09-04T13:53:51.664659Z"
    },
    "papermill": {
     "duration": 0.059239,
     "end_time": "2022-09-04T13:53:51.668542",
     "exception": false,
     "start_time": "2022-09-04T13:53:51.609303",
     "status": "completed"
    },
    "tags": []
   },
   "outputs": [
    {
     "name": "stdout",
     "output_type": "stream",
     "text": [
      "Setup complete.\n"
     ]
    }
   ],
   "source": [
    "from learntools.core import binder; binder.bind(globals())\n",
    "from learntools.python.ex4 import *\n",
    "print('Setup complete.')"
   ]
  },
  {
   "cell_type": "markdown",
   "id": "adaacfe9",
   "metadata": {
    "papermill": {
     "duration": 0.004512,
     "end_time": "2022-09-04T13:53:51.677749",
     "exception": false,
     "start_time": "2022-09-04T13:53:51.673237",
     "status": "completed"
    },
    "tags": []
   },
   "source": [
    "# 1.\n",
    "\n",
    "Complete the function below according to its docstring."
   ]
  },
  {
   "cell_type": "code",
   "execution_count": 2,
   "id": "1b2b31e4",
   "metadata": {
    "execution": {
     "iopub.execute_input": "2022-09-04T13:53:51.688983Z",
     "iopub.status.busy": "2022-09-04T13:53:51.688587Z",
     "iopub.status.idle": "2022-09-04T13:53:51.698779Z",
     "shell.execute_reply": "2022-09-04T13:53:51.698074Z"
    },
    "papermill": {
     "duration": 0.018183,
     "end_time": "2022-09-04T13:53:51.700979",
     "exception": false,
     "start_time": "2022-09-04T13:53:51.682796",
     "status": "completed"
    },
    "tags": []
   },
   "outputs": [
    {
     "data": {
      "application/javascript": [
       "parent.postMessage({\"jupyterEvent\": \"custom.exercise_interaction\", \"data\": {\"outcomeType\": 1, \"valueTowardsCompletion\": 0.2, \"interactionType\": 1, \"questionType\": 2, \"questionId\": \"1_SelectSecondItem\", \"learnToolsVersion\": \"0.3.4\", \"failureMessage\": \"\", \"exceptionClass\": \"\", \"trace\": \"\"}}, \"*\")"
      ],
      "text/plain": [
       "<IPython.core.display.Javascript object>"
      ]
     },
     "metadata": {},
     "output_type": "display_data"
    },
    {
     "data": {
      "text/markdown": [
       "<span style=\"color:#33cc33\">Correct</span>"
      ],
      "text/plain": [
       "Correct"
      ]
     },
     "metadata": {},
     "output_type": "display_data"
    }
   ],
   "source": [
    "def select_second(L):\n",
    "    \"\"\"Return the second element of the given list. If the list has no second\n",
    "    element, return None.\n",
    "    \"\"\"\n",
    "    return L[1] if len(L) >= 2 else None\n",
    "\n",
    "# Check your answer\n",
    "q1.check()"
   ]
  },
  {
   "cell_type": "code",
   "execution_count": 3,
   "id": "5c34f7dc",
   "metadata": {
    "collapsed": true,
    "execution": {
     "iopub.execute_input": "2022-09-04T13:53:51.712837Z",
     "iopub.status.busy": "2022-09-04T13:53:51.712126Z",
     "iopub.status.idle": "2022-09-04T13:53:51.716540Z",
     "shell.execute_reply": "2022-09-04T13:53:51.715795Z"
    },
    "jupyter": {
     "outputs_hidden": true
    },
    "papermill": {
     "duration": 0.012714,
     "end_time": "2022-09-04T13:53:51.718647",
     "exception": false,
     "start_time": "2022-09-04T13:53:51.705933",
     "status": "completed"
    },
    "tags": []
   },
   "outputs": [],
   "source": [
    "#q1.hint()\n",
    "#q1.solution()"
   ]
  },
  {
   "cell_type": "markdown",
   "id": "5dc7f643",
   "metadata": {
    "papermill": {
     "duration": 0.004774,
     "end_time": "2022-09-04T13:53:51.728434",
     "exception": false,
     "start_time": "2022-09-04T13:53:51.723660",
     "status": "completed"
    },
    "tags": []
   },
   "source": [
    "# 2.\n",
    "\n",
    "You are analyzing sports teams.  Members of each team are stored in a list. The Coach is the first name in the list, the captain is the second name in the list, and other players are listed after that. \n",
    "These lists are stored in another list, which starts with the best team and proceeds through the list to the worst team last.  Complete the function below to select the **captain** of the worst team."
   ]
  },
  {
   "cell_type": "code",
   "execution_count": 4,
   "id": "74972fea",
   "metadata": {
    "execution": {
     "iopub.execute_input": "2022-09-04T13:53:51.742135Z",
     "iopub.status.busy": "2022-09-04T13:53:51.741358Z",
     "iopub.status.idle": "2022-09-04T13:53:51.751648Z",
     "shell.execute_reply": "2022-09-04T13:53:51.750831Z"
    },
    "papermill": {
     "duration": 0.020352,
     "end_time": "2022-09-04T13:53:51.753756",
     "exception": false,
     "start_time": "2022-09-04T13:53:51.733404",
     "status": "completed"
    },
    "tags": []
   },
   "outputs": [
    {
     "data": {
      "application/javascript": [
       "parent.postMessage({\"jupyterEvent\": \"custom.exercise_interaction\", \"data\": {\"outcomeType\": 1, \"valueTowardsCompletion\": 0.2, \"interactionType\": 1, \"questionType\": 2, \"questionId\": \"2_LosingTeamCaptain\", \"learnToolsVersion\": \"0.3.4\", \"failureMessage\": \"\", \"exceptionClass\": \"\", \"trace\": \"\"}}, \"*\")"
      ],
      "text/plain": [
       "<IPython.core.display.Javascript object>"
      ]
     },
     "metadata": {},
     "output_type": "display_data"
    },
    {
     "data": {
      "text/markdown": [
       "<span style=\"color:#33cc33\">Correct</span>"
      ],
      "text/plain": [
       "Correct"
      ]
     },
     "metadata": {},
     "output_type": "display_data"
    }
   ],
   "source": [
    "def losing_team_captain(teams):\n",
    "    \"\"\"Given a list of teams, where each team is a list of names, return the 2nd player (captain)\n",
    "    from the last listed team\n",
    "    \"\"\"\n",
    "    return teams[-1][1]\n",
    "\n",
    "# Check your answer\n",
    "q2.check()"
   ]
  },
  {
   "cell_type": "code",
   "execution_count": 5,
   "id": "79499fc5",
   "metadata": {
    "collapsed": true,
    "execution": {
     "iopub.execute_input": "2022-09-04T13:53:51.766375Z",
     "iopub.status.busy": "2022-09-04T13:53:51.765719Z",
     "iopub.status.idle": "2022-09-04T13:53:51.769975Z",
     "shell.execute_reply": "2022-09-04T13:53:51.769211Z"
    },
    "jupyter": {
     "outputs_hidden": true
    },
    "papermill": {
     "duration": 0.013054,
     "end_time": "2022-09-04T13:53:51.772159",
     "exception": false,
     "start_time": "2022-09-04T13:53:51.759105",
     "status": "completed"
    },
    "tags": []
   },
   "outputs": [],
   "source": [
    "#q2.hint()\n",
    "#q2.solution()"
   ]
  },
  {
   "cell_type": "markdown",
   "id": "d61db708",
   "metadata": {
    "papermill": {
     "duration": 0.005024,
     "end_time": "2022-09-04T13:53:51.782484",
     "exception": false,
     "start_time": "2022-09-04T13:53:51.777460",
     "status": "completed"
    },
    "tags": []
   },
   "source": [
    "# 3.\n",
    "\n",
    "The next iteration of Mario Kart will feature an extra-infuriating new item, the *Purple Shell*. When used, it warps the last place racer into first place and the first place racer into last place. Complete the function below to implement the Purple Shell's effect."
   ]
  },
  {
   "cell_type": "code",
   "execution_count": 6,
   "id": "8c728e5f",
   "metadata": {
    "execution": {
     "iopub.execute_input": "2022-09-04T13:53:51.794970Z",
     "iopub.status.busy": "2022-09-04T13:53:51.794172Z",
     "iopub.status.idle": "2022-09-04T13:53:51.802141Z",
     "shell.execute_reply": "2022-09-04T13:53:51.801392Z"
    },
    "papermill": {
     "duration": 0.016529,
     "end_time": "2022-09-04T13:53:51.804113",
     "exception": false,
     "start_time": "2022-09-04T13:53:51.787584",
     "status": "completed"
    },
    "tags": []
   },
   "outputs": [
    {
     "data": {
      "application/javascript": [
       "parent.postMessage({\"jupyterEvent\": \"custom.exercise_interaction\", \"data\": {\"outcomeType\": 1, \"valueTowardsCompletion\": 0.2, \"interactionType\": 1, \"questionType\": 2, \"questionId\": \"3_PurpleShell\", \"learnToolsVersion\": \"0.3.4\", \"failureMessage\": \"\", \"exceptionClass\": \"\", \"trace\": \"\"}}, \"*\")"
      ],
      "text/plain": [
       "<IPython.core.display.Javascript object>"
      ]
     },
     "metadata": {},
     "output_type": "display_data"
    },
    {
     "data": {
      "text/markdown": [
       "<span style=\"color:#33cc33\">Correct</span>"
      ],
      "text/plain": [
       "Correct"
      ]
     },
     "metadata": {},
     "output_type": "display_data"
    }
   ],
   "source": [
    "def purple_shell(racers):\n",
    "    \"\"\"Given a list of racers, set the first place racer (at the front of the list) to last\n",
    "    place and vice versa.\n",
    "    \n",
    "    >>> r = [\"Mario\", \"Bowser\", \"Luigi\"]\n",
    "    >>> purple_shell(r)\n",
    "    >>> r\n",
    "    [\"Luigi\", \"Bowser\", \"Mario\"]\n",
    "    \"\"\"\n",
    "    tmp = racers[0]\n",
    "    racers[0] = racers[-1]\n",
    "    racers[-1] = tmp\n",
    "\n",
    "# Check your answer\n",
    "q3.check()"
   ]
  },
  {
   "cell_type": "code",
   "execution_count": 7,
   "id": "4b0732f9",
   "metadata": {
    "execution": {
     "iopub.execute_input": "2022-09-04T13:53:51.817170Z",
     "iopub.status.busy": "2022-09-04T13:53:51.816447Z",
     "iopub.status.idle": "2022-09-04T13:53:51.820235Z",
     "shell.execute_reply": "2022-09-04T13:53:51.819440Z"
    },
    "papermill": {
     "duration": 0.012731,
     "end_time": "2022-09-04T13:53:51.822376",
     "exception": false,
     "start_time": "2022-09-04T13:53:51.809645",
     "status": "completed"
    },
    "tags": []
   },
   "outputs": [],
   "source": [
    "# q3.hint()\n",
    "# q3.solution()"
   ]
  },
  {
   "cell_type": "markdown",
   "id": "8c987998",
   "metadata": {
    "papermill": {
     "duration": 0.005255,
     "end_time": "2022-09-04T13:53:51.833521",
     "exception": false,
     "start_time": "2022-09-04T13:53:51.828266",
     "status": "completed"
    },
    "tags": []
   },
   "source": [
    "# 4.\n",
    "\n",
    "What are the lengths of the following lists? Fill in the variable `lengths` with your predictions. (Try to make a prediction for each list *without* just calling `len()` on it.)"
   ]
  },
  {
   "cell_type": "code",
   "execution_count": 8,
   "id": "ebc599e2",
   "metadata": {
    "execution": {
     "iopub.execute_input": "2022-09-04T13:53:51.846944Z",
     "iopub.status.busy": "2022-09-04T13:53:51.846295Z",
     "iopub.status.idle": "2022-09-04T13:53:51.854641Z",
     "shell.execute_reply": "2022-09-04T13:53:51.853768Z"
    },
    "papermill": {
     "duration": 0.017646,
     "end_time": "2022-09-04T13:53:51.856681",
     "exception": false,
     "start_time": "2022-09-04T13:53:51.839035",
     "status": "completed"
    },
    "tags": []
   },
   "outputs": [
    {
     "data": {
      "application/javascript": [
       "parent.postMessage({\"jupyterEvent\": \"custom.exercise_interaction\", \"data\": {\"outcomeType\": 1, \"valueTowardsCompletion\": 0.2, \"interactionType\": 1, \"questionType\": 1, \"questionId\": \"4_UnderstandLen\", \"learnToolsVersion\": \"0.3.4\", \"failureMessage\": \"\", \"exceptionClass\": \"\", \"trace\": \"\"}}, \"*\")"
      ],
      "text/plain": [
       "<IPython.core.display.Javascript object>"
      ]
     },
     "metadata": {},
     "output_type": "display_data"
    },
    {
     "data": {
      "text/markdown": [
       "<span style=\"color:#33cc33\">Correct:</span> \n",
       "\n",
       "\n",
       "- a: There are three items in this list. Nothing tricky yet.\n",
       "- b: The list `[2, 3]` counts as a single item. It has one item before it. So we have 2 items in the list\n",
       "- c: The empty list has 0 items\n",
       "- d: The expression is the same as the list `[2, 3]`, which has length 2."
      ],
      "text/plain": [
       "Correct: \n",
       "\n",
       "\n",
       "- a: There are three items in this list. Nothing tricky yet.\n",
       "- b: The list `[2, 3]` counts as a single item. It has one item before it. So we have 2 items in the list\n",
       "- c: The empty list has 0 items\n",
       "- d: The expression is the same as the list `[2, 3]`, which has length 2."
      ]
     },
     "metadata": {},
     "output_type": "display_data"
    }
   ],
   "source": [
    "a = [1, 2, 3]\n",
    "b = [1, [2, 3]]\n",
    "c = []\n",
    "d = [1, 2, 3][1:]\n",
    "\n",
    "# Put your predictions in the list below. Lengths should contain 4 numbers, the\n",
    "# first being the length of a, the second being the length of b and so on.\n",
    "lengths = [3, 2, 0, 2]\n",
    "\n",
    "# Check your answer\n",
    "q4.check()"
   ]
  },
  {
   "cell_type": "code",
   "execution_count": 9,
   "id": "08411f0e",
   "metadata": {
    "collapsed": true,
    "execution": {
     "iopub.execute_input": "2022-09-04T13:53:51.869869Z",
     "iopub.status.busy": "2022-09-04T13:53:51.869284Z",
     "iopub.status.idle": "2022-09-04T13:53:51.872782Z",
     "shell.execute_reply": "2022-09-04T13:53:51.872074Z"
    },
    "jupyter": {
     "outputs_hidden": true
    },
    "papermill": {
     "duration": 0.012401,
     "end_time": "2022-09-04T13:53:51.874793",
     "exception": false,
     "start_time": "2022-09-04T13:53:51.862392",
     "status": "completed"
    },
    "tags": []
   },
   "outputs": [],
   "source": [
    "# line below provides some explanation\n",
    "#q4.solution()\n"
   ]
  },
  {
   "cell_type": "markdown",
   "id": "67bc2fd6",
   "metadata": {
    "papermill": {
     "duration": 0.00576,
     "end_time": "2022-09-04T13:53:51.886365",
     "exception": false,
     "start_time": "2022-09-04T13:53:51.880605",
     "status": "completed"
    },
    "tags": []
   },
   "source": [
    "# 5. <span title=\"A bit spicy\" style=\"color: darkgreen \">🌶️</span>\n",
    "\n",
    "We're using lists to record people who attended our party and what order they arrived in. For example, the following list represents a party with 7 guests, in which Adela showed up first and Ford was the last to arrive:\n",
    "\n",
    "    party_attendees = ['Adela', 'Fleda', 'Owen', 'May', 'Mona', 'Gilbert', 'Ford']\n",
    "\n",
    "A guest is considered 'fashionably late' if they arrived after at least half of the party's guests. However, they must not be the very last guest (that's taking it too far). In the above example, Mona and Gilbert are the only guests who were fashionably late.\n",
    "\n",
    "Complete the function below which takes a list of party attendees as well as a person, and tells us whether that person is fashionably late."
   ]
  },
  {
   "cell_type": "code",
   "execution_count": 10,
   "id": "6c27bdd1",
   "metadata": {
    "execution": {
     "iopub.execute_input": "2022-09-04T13:53:51.900617Z",
     "iopub.status.busy": "2022-09-04T13:53:51.899936Z",
     "iopub.status.idle": "2022-09-04T13:53:51.908178Z",
     "shell.execute_reply": "2022-09-04T13:53:51.907471Z"
    },
    "papermill": {
     "duration": 0.017307,
     "end_time": "2022-09-04T13:53:51.910065",
     "exception": false,
     "start_time": "2022-09-04T13:53:51.892758",
     "status": "completed"
    },
    "tags": []
   },
   "outputs": [
    {
     "data": {
      "application/javascript": [
       "parent.postMessage({\"jupyterEvent\": \"custom.exercise_interaction\", \"data\": {\"outcomeType\": 1, \"valueTowardsCompletion\": 0.2, \"interactionType\": 1, \"questionType\": 2, \"questionId\": \"5_FashionablyLate\", \"learnToolsVersion\": \"0.3.4\", \"failureMessage\": \"\", \"exceptionClass\": \"\", \"trace\": \"\"}}, \"*\")"
      ],
      "text/plain": [
       "<IPython.core.display.Javascript object>"
      ]
     },
     "metadata": {},
     "output_type": "display_data"
    },
    {
     "data": {
      "text/markdown": [
       "<span style=\"color:#33cc33\">Correct</span>"
      ],
      "text/plain": [
       "Correct"
      ]
     },
     "metadata": {},
     "output_type": "display_data"
    }
   ],
   "source": [
    "def fashionably_late(arrivals, name):\n",
    "    \"\"\"Given an ordered list of arrivals to the party and a name, return whether the guest with that\n",
    "    name was fashionably late.\n",
    "    \"\"\"\n",
    "    order = arrivals.index(name)\n",
    "    return order >= round(len(arrivals) / 2) and order != len(arrivals)-1\n",
    "    \n",
    "\n",
    "# Check your answer\n",
    "q5.check()"
   ]
  },
  {
   "cell_type": "code",
   "execution_count": 11,
   "id": "33ed23d9",
   "metadata": {
    "execution": {
     "iopub.execute_input": "2022-09-04T13:53:51.924071Z",
     "iopub.status.busy": "2022-09-04T13:53:51.923659Z",
     "iopub.status.idle": "2022-09-04T13:53:51.927456Z",
     "shell.execute_reply": "2022-09-04T13:53:51.926547Z"
    },
    "papermill": {
     "duration": 0.012972,
     "end_time": "2022-09-04T13:53:51.929366",
     "exception": false,
     "start_time": "2022-09-04T13:53:51.916394",
     "status": "completed"
    },
    "tags": []
   },
   "outputs": [],
   "source": [
    "# q5.hint()\n",
    "# q5.solution()"
   ]
  },
  {
   "cell_type": "markdown",
   "id": "d22b314e",
   "metadata": {
    "papermill": {
     "duration": 0.005813,
     "end_time": "2022-09-04T13:53:51.941155",
     "exception": false,
     "start_time": "2022-09-04T13:53:51.935342",
     "status": "completed"
    },
    "tags": []
   },
   "source": [
    "# Keep Going\n",
    "\n",
    "That's it for lists and tuples! Now you have the baseline knowledge to **[learn about loops](https://www.kaggle.com/colinmorris/loops-and-list-comprehensions)**, which is where lists and tuples get really interesting. "
   ]
  },
  {
   "cell_type": "markdown",
   "id": "00f357ee",
   "metadata": {
    "papermill": {
     "duration": 0.006157,
     "end_time": "2022-09-04T13:53:51.953156",
     "exception": false,
     "start_time": "2022-09-04T13:53:51.946999",
     "status": "completed"
    },
    "tags": []
   },
   "source": [
    "---\n",
    "\n",
    "\n",
    "\n",
    "\n",
    "*Have questions or comments? Visit the [course discussion forum](https://www.kaggle.com/learn/python/discussion) to chat with other learners.*"
   ]
  }
 ],
 "metadata": {
  "kernelspec": {
   "display_name": "Python 3",
   "language": "python",
   "name": "python3"
  },
  "language_info": {
   "codemirror_mode": {
    "name": "ipython",
    "version": 3
   },
   "file_extension": ".py",
   "mimetype": "text/x-python",
   "name": "python",
   "nbconvert_exporter": "python",
   "pygments_lexer": "ipython3",
   "version": "3.7.12"
  },
  "papermill": {
   "default_parameters": {},
   "duration": 9.751077,
   "end_time": "2022-09-04T13:53:52.579891",
   "environment_variables": {},
   "exception": null,
   "input_path": "__notebook__.ipynb",
   "output_path": "__notebook__.ipynb",
   "parameters": {},
   "start_time": "2022-09-04T13:53:42.828814",
   "version": "2.3.4"
  }
 },
 "nbformat": 4,
 "nbformat_minor": 5
}

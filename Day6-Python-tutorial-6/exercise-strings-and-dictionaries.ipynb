{
 "cells": [
  {
   "cell_type": "markdown",
   "id": "216b1b73",
   "metadata": {
    "papermill": {
     "duration": 0.006615,
     "end_time": "2022-09-05T06:21:26.273146",
     "exception": false,
     "start_time": "2022-09-05T06:21:26.266531",
     "status": "completed"
    },
    "tags": []
   },
   "source": [
    "**This notebook is an exercise in the [Python](https://www.kaggle.com/learn/python) course.  You can reference the tutorial at [this link](https://www.kaggle.com/colinmorris/strings-and-dictionaries).**\n",
    "\n",
    "---\n"
   ]
  },
  {
   "cell_type": "markdown",
   "id": "a508ba98",
   "metadata": {
    "papermill": {
     "duration": 0.004907,
     "end_time": "2022-09-05T06:21:26.283509",
     "exception": false,
     "start_time": "2022-09-05T06:21:26.278602",
     "status": "completed"
    },
    "tags": []
   },
   "source": [
    "You are almost done with the course. Nice job!\n",
    "\n",
    "We have a couple more interesting problems for you before you go. \n",
    "\n",
    "As always, run the setup code below before working on the questions."
   ]
  },
  {
   "cell_type": "code",
   "execution_count": 1,
   "id": "01be4c56",
   "metadata": {
    "execution": {
     "iopub.execute_input": "2022-09-05T06:21:26.296599Z",
     "iopub.status.busy": "2022-09-05T06:21:26.296099Z",
     "iopub.status.idle": "2022-09-05T06:21:26.363169Z",
     "shell.execute_reply": "2022-09-05T06:21:26.360803Z"
    },
    "papermill": {
     "duration": 0.078189,
     "end_time": "2022-09-05T06:21:26.366861",
     "exception": false,
     "start_time": "2022-09-05T06:21:26.288672",
     "status": "completed"
    },
    "tags": []
   },
   "outputs": [
    {
     "name": "stdout",
     "output_type": "stream",
     "text": [
      "Setup complete.\n"
     ]
    }
   ],
   "source": [
    "from learntools.core import binder; binder.bind(globals())\n",
    "from learntools.python.ex6 import *\n",
    "print('Setup complete.')"
   ]
  },
  {
   "cell_type": "markdown",
   "id": "b1c4390c",
   "metadata": {
    "papermill": {
     "duration": 0.008138,
     "end_time": "2022-09-05T06:21:26.383593",
     "exception": false,
     "start_time": "2022-09-05T06:21:26.375455",
     "status": "completed"
    },
    "tags": []
   },
   "source": [
    "Let's start with a string lightning round to warm up. What are the lengths of the strings below?\n",
    "\n",
    "For each of the five strings below, predict what `len()` would return when passed that string. Use the variable `length` to record your answer, then run the cell to check whether you were right.  \n",
    "\n",
    "# 0a."
   ]
  },
  {
   "cell_type": "code",
   "execution_count": 2,
   "id": "287cfe14",
   "metadata": {
    "execution": {
     "iopub.execute_input": "2022-09-05T06:21:26.398496Z",
     "iopub.status.busy": "2022-09-05T06:21:26.398142Z",
     "iopub.status.idle": "2022-09-05T06:21:26.411646Z",
     "shell.execute_reply": "2022-09-05T06:21:26.409261Z"
    },
    "papermill": {
     "duration": 0.023079,
     "end_time": "2022-09-05T06:21:26.414432",
     "exception": false,
     "start_time": "2022-09-05T06:21:26.391353",
     "status": "completed"
    },
    "tags": []
   },
   "outputs": [
    {
     "data": {
      "application/javascript": [
       "parent.postMessage({\"jupyterEvent\": \"custom.exercise_interaction\", \"data\": {\"outcomeType\": 1, \"valueTowardsCompletion\": 0.3333333333333333, \"interactionType\": 1, \"questionType\": 1, \"questionId\": \"0.1_ZA\", \"learnToolsVersion\": \"0.3.4\", \"failureMessage\": \"\", \"exceptionClass\": \"\", \"trace\": \"\"}}, \"*\")"
      ],
      "text/plain": [
       "<IPython.core.display.Javascript object>"
      ]
     },
     "metadata": {},
     "output_type": "display_data"
    },
    {
     "data": {
      "text/markdown": [
       "<span style=\"color:#33cc33\">Correct:</span> \n",
       "\n",
       "The empty string has length zero. Note that the empty string is also the only string that Python considers as False when converting to boolean."
      ],
      "text/plain": [
       "Correct: \n",
       "\n",
       "The empty string has length zero. Note that the empty string is also the only string that Python considers as False when converting to boolean."
      ]
     },
     "metadata": {},
     "output_type": "display_data"
    }
   ],
   "source": [
    "a = \"\"\n",
    "length = 0\n",
    "q0.a.check()"
   ]
  },
  {
   "cell_type": "markdown",
   "id": "c3953380",
   "metadata": {
    "papermill": {
     "duration": 0.005471,
     "end_time": "2022-09-05T06:21:26.426180",
     "exception": false,
     "start_time": "2022-09-05T06:21:26.420709",
     "status": "completed"
    },
    "tags": []
   },
   "source": [
    "# 0b."
   ]
  },
  {
   "cell_type": "code",
   "execution_count": 3,
   "id": "25239c39",
   "metadata": {
    "execution": {
     "iopub.execute_input": "2022-09-05T06:21:26.440470Z",
     "iopub.status.busy": "2022-09-05T06:21:26.439402Z",
     "iopub.status.idle": "2022-09-05T06:21:26.448476Z",
     "shell.execute_reply": "2022-09-05T06:21:26.447539Z"
    },
    "papermill": {
     "duration": 0.018956,
     "end_time": "2022-09-05T06:21:26.450664",
     "exception": false,
     "start_time": "2022-09-05T06:21:26.431708",
     "status": "completed"
    },
    "tags": []
   },
   "outputs": [
    {
     "data": {
      "application/javascript": [
       "parent.postMessage({\"jupyterEvent\": \"custom.exercise_interaction\", \"data\": {\"outcomeType\": 1, \"valueTowardsCompletion\": 0.3333333333333333, \"interactionType\": 1, \"questionType\": 1, \"questionId\": \"0.2_ZB\", \"learnToolsVersion\": \"0.3.4\", \"failureMessage\": \"\", \"exceptionClass\": \"\", \"trace\": \"\"}}, \"*\")"
      ],
      "text/plain": [
       "<IPython.core.display.Javascript object>"
      ]
     },
     "metadata": {},
     "output_type": "display_data"
    },
    {
     "data": {
      "text/markdown": [
       "<span style=\"color:#33cc33\">Correct:</span> \n",
       "\n",
       "Keep in mind Python includes spaces (and punctuation) when counting string length."
      ],
      "text/plain": [
       "Correct: \n",
       "\n",
       "Keep in mind Python includes spaces (and punctuation) when counting string length."
      ]
     },
     "metadata": {},
     "output_type": "display_data"
    }
   ],
   "source": [
    "b = \"it's ok\"\n",
    "length = 7\n",
    "q0.b.check()"
   ]
  },
  {
   "cell_type": "markdown",
   "id": "542a98fd",
   "metadata": {
    "papermill": {
     "duration": 0.005551,
     "end_time": "2022-09-05T06:21:26.462335",
     "exception": false,
     "start_time": "2022-09-05T06:21:26.456784",
     "status": "completed"
    },
    "tags": []
   },
   "source": [
    "# 0c."
   ]
  },
  {
   "cell_type": "code",
   "execution_count": 4,
   "id": "03fe1166",
   "metadata": {
    "execution": {
     "iopub.execute_input": "2022-09-05T06:21:26.476161Z",
     "iopub.status.busy": "2022-09-05T06:21:26.475414Z",
     "iopub.status.idle": "2022-09-05T06:21:26.482724Z",
     "shell.execute_reply": "2022-09-05T06:21:26.482002Z"
    },
    "papermill": {
     "duration": 0.016435,
     "end_time": "2022-09-05T06:21:26.484747",
     "exception": false,
     "start_time": "2022-09-05T06:21:26.468312",
     "status": "completed"
    },
    "tags": []
   },
   "outputs": [
    {
     "data": {
      "application/javascript": [
       "parent.postMessage({\"jupyterEvent\": \"custom.exercise_interaction\", \"data\": {\"outcomeType\": 1, \"valueTowardsCompletion\": 0.3333333333333333, \"interactionType\": 1, \"questionType\": 1, \"questionId\": \"0.3_ZC\", \"learnToolsVersion\": \"0.3.4\", \"failureMessage\": \"\", \"exceptionClass\": \"\", \"trace\": \"\"}}, \"*\")"
      ],
      "text/plain": [
       "<IPython.core.display.Javascript object>"
      ]
     },
     "metadata": {},
     "output_type": "display_data"
    },
    {
     "data": {
      "text/markdown": [
       "<span style=\"color:#33cc33\">Correct:</span> \n",
       "\n",
       "Even though we use different syntax to create it, the string `c` is identical to `b`. In particular, note that the backslash is not part of the string, so it doesn't contribute to its length."
      ],
      "text/plain": [
       "Correct: \n",
       "\n",
       "Even though we use different syntax to create it, the string `c` is identical to `b`. In particular, note that the backslash is not part of the string, so it doesn't contribute to its length."
      ]
     },
     "metadata": {},
     "output_type": "display_data"
    }
   ],
   "source": [
    "c = 'it\\'s ok'\n",
    "length = 7\n",
    "q0.c.check()"
   ]
  },
  {
   "cell_type": "markdown",
   "id": "8bb017cf",
   "metadata": {
    "papermill": {
     "duration": 0.005756,
     "end_time": "2022-09-05T06:21:26.496681",
     "exception": false,
     "start_time": "2022-09-05T06:21:26.490925",
     "status": "completed"
    },
    "tags": []
   },
   "source": [
    "# 0d."
   ]
  },
  {
   "cell_type": "code",
   "execution_count": 5,
   "id": "426daa21",
   "metadata": {
    "execution": {
     "iopub.execute_input": "2022-09-05T06:21:26.510625Z",
     "iopub.status.busy": "2022-09-05T06:21:26.509889Z",
     "iopub.status.idle": "2022-09-05T06:21:26.518908Z",
     "shell.execute_reply": "2022-09-05T06:21:26.517746Z"
    },
    "papermill": {
     "duration": 0.018867,
     "end_time": "2022-09-05T06:21:26.521381",
     "exception": false,
     "start_time": "2022-09-05T06:21:26.502514",
     "status": "completed"
    },
    "tags": []
   },
   "outputs": [
    {
     "data": {
      "application/javascript": [
       "parent.postMessage({\"jupyterEvent\": \"custom.exercise_interaction\", \"data\": {\"outcomeType\": 1, \"valueTowardsCompletion\": 0.3333333333333333, \"interactionType\": 1, \"questionType\": 1, \"questionId\": \"0.4_ZD\", \"learnToolsVersion\": \"0.3.4\", \"failureMessage\": \"\", \"exceptionClass\": \"\", \"trace\": \"\"}}, \"*\")"
      ],
      "text/plain": [
       "<IPython.core.display.Javascript object>"
      ]
     },
     "metadata": {},
     "output_type": "display_data"
    },
    {
     "data": {
      "text/markdown": [
       "<span style=\"color:#33cc33\">Correct:</span> \n",
       "\n",
       "The fact that this string was created using triple-quote syntax doesn't make any difference in terms of its content or length. This string is exactly the same as `'hey'`."
      ],
      "text/plain": [
       "Correct: \n",
       "\n",
       "The fact that this string was created using triple-quote syntax doesn't make any difference in terms of its content or length. This string is exactly the same as `'hey'`."
      ]
     },
     "metadata": {},
     "output_type": "display_data"
    }
   ],
   "source": [
    "d = \"\"\"hey\"\"\"\n",
    "length = 3\n",
    "q0.d.check()"
   ]
  },
  {
   "cell_type": "markdown",
   "id": "a85e3efa",
   "metadata": {
    "papermill": {
     "duration": 0.006048,
     "end_time": "2022-09-05T06:21:26.533737",
     "exception": false,
     "start_time": "2022-09-05T06:21:26.527689",
     "status": "completed"
    },
    "tags": []
   },
   "source": [
    "# 0e."
   ]
  },
  {
   "cell_type": "code",
   "execution_count": 6,
   "id": "398b2156",
   "metadata": {
    "execution": {
     "iopub.execute_input": "2022-09-05T06:21:26.548184Z",
     "iopub.status.busy": "2022-09-05T06:21:26.547531Z",
     "iopub.status.idle": "2022-09-05T06:21:26.556624Z",
     "shell.execute_reply": "2022-09-05T06:21:26.555774Z"
    },
    "papermill": {
     "duration": 0.018888,
     "end_time": "2022-09-05T06:21:26.558760",
     "exception": false,
     "start_time": "2022-09-05T06:21:26.539872",
     "status": "completed"
    },
    "tags": []
   },
   "outputs": [
    {
     "data": {
      "application/javascript": [
       "parent.postMessage({\"jupyterEvent\": \"custom.exercise_interaction\", \"data\": {\"outcomeType\": 1, \"valueTowardsCompletion\": 0.3333333333333333, \"interactionType\": 1, \"questionType\": 1, \"questionId\": \"0.5_ZE\", \"learnToolsVersion\": \"0.3.4\", \"failureMessage\": \"\", \"exceptionClass\": \"\", \"trace\": \"\"}}, \"*\")"
      ],
      "text/plain": [
       "<IPython.core.display.Javascript object>"
      ]
     },
     "metadata": {},
     "output_type": "display_data"
    },
    {
     "data": {
      "text/markdown": [
       "<span style=\"color:#33cc33\">Correct:</span> \n",
       "\n",
       "The newline character is just a single character! (Even though we represent it to Python using a combination of two characters.)"
      ],
      "text/plain": [
       "Correct: \n",
       "\n",
       "The newline character is just a single character! (Even though we represent it to Python using a combination of two characters.)"
      ]
     },
     "metadata": {},
     "output_type": "display_data"
    }
   ],
   "source": [
    "e = '\\n'\n",
    "length = 1\n",
    "q0.e.check()"
   ]
  },
  {
   "cell_type": "markdown",
   "id": "a3b4669d",
   "metadata": {
    "papermill": {
     "duration": 0.006903,
     "end_time": "2022-09-05T06:21:26.572151",
     "exception": false,
     "start_time": "2022-09-05T06:21:26.565248",
     "status": "completed"
    },
    "tags": []
   },
   "source": [
    "# 1.\n",
    "\n",
    "There is a saying that \"Data scientists spend 80% of their time cleaning data, and 20% of their time complaining about cleaning data.\" Let's see if you can write a function to help clean US zip code data. Given a string, it should return whether or not that string represents a valid zip code. For our purposes, a valid zip code is any string consisting of exactly 5 digits.\n",
    "\n",
    "HINT: `str` has a method that will be useful here. Use `help(str)` to review a list of string methods."
   ]
  },
  {
   "cell_type": "code",
   "execution_count": 7,
   "id": "da5d2124",
   "metadata": {
    "execution": {
     "iopub.execute_input": "2022-09-05T06:21:26.587765Z",
     "iopub.status.busy": "2022-09-05T06:21:26.586809Z",
     "iopub.status.idle": "2022-09-05T06:21:26.597543Z",
     "shell.execute_reply": "2022-09-05T06:21:26.596377Z"
    },
    "papermill": {
     "duration": 0.0212,
     "end_time": "2022-09-05T06:21:26.599794",
     "exception": false,
     "start_time": "2022-09-05T06:21:26.578594",
     "status": "completed"
    },
    "tags": []
   },
   "outputs": [
    {
     "data": {
      "application/javascript": [
       "parent.postMessage({\"jupyterEvent\": \"custom.exercise_interaction\", \"data\": {\"outcomeType\": 1, \"valueTowardsCompletion\": 0.3333333333333333, \"interactionType\": 1, \"questionType\": 2, \"questionId\": \"1_ZipValidator\", \"learnToolsVersion\": \"0.3.4\", \"failureMessage\": \"\", \"exceptionClass\": \"\", \"trace\": \"\"}}, \"*\")"
      ],
      "text/plain": [
       "<IPython.core.display.Javascript object>"
      ]
     },
     "metadata": {},
     "output_type": "display_data"
    },
    {
     "data": {
      "text/markdown": [
       "<span style=\"color:#33cc33\">Correct</span>"
      ],
      "text/plain": [
       "Correct"
      ]
     },
     "metadata": {},
     "output_type": "display_data"
    }
   ],
   "source": [
    "def is_valid_zip(zip_code):\n",
    "    \"\"\"Returns whether the input string is a valid (5 digit) zip code\n",
    "    \"\"\"\n",
    "    return len(zip_code) == 5 and zip_code.isdigit()\n",
    "\n",
    "# Check your answer\n",
    "q1.check()"
   ]
  },
  {
   "cell_type": "code",
   "execution_count": 8,
   "id": "4114733e",
   "metadata": {
    "execution": {
     "iopub.execute_input": "2022-09-05T06:21:26.615217Z",
     "iopub.status.busy": "2022-09-05T06:21:26.614730Z",
     "iopub.status.idle": "2022-09-05T06:21:26.619630Z",
     "shell.execute_reply": "2022-09-05T06:21:26.618540Z"
    },
    "papermill": {
     "duration": 0.01529,
     "end_time": "2022-09-05T06:21:26.621861",
     "exception": false,
     "start_time": "2022-09-05T06:21:26.606571",
     "status": "completed"
    },
    "tags": []
   },
   "outputs": [],
   "source": [
    "#q1.hint()\n",
    "#q1.solution()"
   ]
  },
  {
   "cell_type": "markdown",
   "id": "8cccd4bf",
   "metadata": {
    "papermill": {
     "duration": 0.006371,
     "end_time": "2022-09-05T06:21:26.634930",
     "exception": false,
     "start_time": "2022-09-05T06:21:26.628559",
     "status": "completed"
    },
    "tags": []
   },
   "source": [
    "# 2.\n",
    "\n",
    "A researcher has gathered thousands of news articles. But she wants to focus her attention on articles including a specific word. Complete the function below to help her filter her list of articles.\n",
    "\n",
    "Your function should meet the following criteria:\n",
    "\n",
    "- Do not include documents where the keyword string shows up only as a part of a larger word. For example, if she were looking for the keyword “closed”, you would not include the string “enclosed.” \n",
    "- She does not want you to distinguish upper case from lower case letters. So the phrase “Closed the case.” would be included when the keyword is “closed”\n",
    "- Do not let periods or commas affect what is matched. “It is closed.” would be included when the keyword is “closed”. But you can assume there are no other types of punctuation."
   ]
  },
  {
   "cell_type": "code",
   "execution_count": 9,
   "id": "17befe3f",
   "metadata": {
    "execution": {
     "iopub.execute_input": "2022-09-05T06:21:26.650628Z",
     "iopub.status.busy": "2022-09-05T06:21:26.649911Z",
     "iopub.status.idle": "2022-09-05T06:21:26.660197Z",
     "shell.execute_reply": "2022-09-05T06:21:26.659416Z"
    },
    "papermill": {
     "duration": 0.020801,
     "end_time": "2022-09-05T06:21:26.662298",
     "exception": false,
     "start_time": "2022-09-05T06:21:26.641497",
     "status": "completed"
    },
    "tags": []
   },
   "outputs": [
    {
     "data": {
      "application/javascript": [
       "parent.postMessage({\"jupyterEvent\": \"custom.exercise_interaction\", \"data\": {\"outcomeType\": 1, \"valueTowardsCompletion\": 0.3333333333333333, \"interactionType\": 1, \"questionType\": 2, \"questionId\": \"2_WordSearch\", \"learnToolsVersion\": \"0.3.4\", \"failureMessage\": \"\", \"exceptionClass\": \"\", \"trace\": \"\"}}, \"*\")"
      ],
      "text/plain": [
       "<IPython.core.display.Javascript object>"
      ]
     },
     "metadata": {},
     "output_type": "display_data"
    },
    {
     "data": {
      "text/markdown": [
       "<span style=\"color:#33cc33\">Correct</span>"
      ],
      "text/plain": [
       "Correct"
      ]
     },
     "metadata": {},
     "output_type": "display_data"
    }
   ],
   "source": [
    "def word_search(doc_list, keyword):\n",
    "    \"\"\"\n",
    "    Takes a list of documents (each document is a string) and a keyword. \n",
    "    Returns list of the index values into the original list for all documents \n",
    "    containing the keyword.\n",
    "\n",
    "    Example:\n",
    "    doc_list = [\"The Learn Python Challenge Casino.\", \"They bought a car\", \"Casinoville\"]\n",
    "    >>> word_search(doc_list, 'casino')\n",
    "    >>> [0]\n",
    "    \"\"\"\n",
    "    index = []\n",
    "    for i, doc in enumerate(doc_list):\n",
    "        word_list = doc.split(' ')\n",
    "        for word in word_list:\n",
    "            word = word.rstrip('.,').lower()\n",
    "            if word == keyword:\n",
    "                index.append(i)\n",
    "                break\n",
    "    return index\n",
    "    \n",
    "    \n",
    "# Check your answer\n",
    "q2.check()"
   ]
  },
  {
   "cell_type": "code",
   "execution_count": 10,
   "id": "2141d673",
   "metadata": {
    "execution": {
     "iopub.execute_input": "2022-09-05T06:21:26.678287Z",
     "iopub.status.busy": "2022-09-05T06:21:26.677564Z",
     "iopub.status.idle": "2022-09-05T06:21:26.681500Z",
     "shell.execute_reply": "2022-09-05T06:21:26.680658Z"
    },
    "papermill": {
     "duration": 0.014322,
     "end_time": "2022-09-05T06:21:26.683481",
     "exception": false,
     "start_time": "2022-09-05T06:21:26.669159",
     "status": "completed"
    },
    "tags": []
   },
   "outputs": [],
   "source": [
    "#q2.hint()\n",
    "#q2.solution()"
   ]
  },
  {
   "cell_type": "markdown",
   "id": "1ea3495d",
   "metadata": {
    "papermill": {
     "duration": 0.006618,
     "end_time": "2022-09-05T06:21:26.696994",
     "exception": false,
     "start_time": "2022-09-05T06:21:26.690376",
     "status": "completed"
    },
    "tags": []
   },
   "source": [
    "# 3.\n",
    "\n",
    "Now the researcher wants to supply multiple keywords to search for. Complete the function below to help her.\n",
    "\n",
    "(You're encouraged to use the `word_search` function you just wrote when implementing this function. Reusing code in this way makes your programs more robust and readable - and it saves typing!)"
   ]
  },
  {
   "cell_type": "code",
   "execution_count": 11,
   "id": "33dcaa23",
   "metadata": {
    "execution": {
     "iopub.execute_input": "2022-09-05T06:21:26.713369Z",
     "iopub.status.busy": "2022-09-05T06:21:26.712496Z",
     "iopub.status.idle": "2022-09-05T06:21:26.724188Z",
     "shell.execute_reply": "2022-09-05T06:21:26.723020Z"
    },
    "papermill": {
     "duration": 0.023133,
     "end_time": "2022-09-05T06:21:26.726949",
     "exception": false,
     "start_time": "2022-09-05T06:21:26.703816",
     "status": "completed"
    },
    "tags": []
   },
   "outputs": [
    {
     "data": {
      "application/javascript": [
       "parent.postMessage({\"jupyterEvent\": \"custom.exercise_interaction\", \"data\": {\"outcomeType\": 1, \"valueTowardsCompletion\": 0.3333333333333333, \"interactionType\": 1, \"questionType\": 2, \"questionId\": \"3_MultiWordSearch\", \"learnToolsVersion\": \"0.3.4\", \"failureMessage\": \"\", \"exceptionClass\": \"\", \"trace\": \"\"}}, \"*\")"
      ],
      "text/plain": [
       "<IPython.core.display.Javascript object>"
      ]
     },
     "metadata": {},
     "output_type": "display_data"
    },
    {
     "data": {
      "text/markdown": [
       "<span style=\"color:#33cc33\">Correct</span>"
      ],
      "text/plain": [
       "Correct"
      ]
     },
     "metadata": {},
     "output_type": "display_data"
    }
   ],
   "source": [
    "def multi_word_search(doc_list, keywords):\n",
    "    \"\"\"\n",
    "    Takes list of documents (each document is a string) and a list of keywords.  \n",
    "    Returns a dictionary where each key is a keyword, and the value is a list of indices\n",
    "    (from doc_list) of the documents containing that keyword\n",
    "\n",
    "    >>> doc_list = [\"The Learn Python Challenge Casino.\", \"They bought a car and a casino\", \"Casinoville\"]\n",
    "    >>> keywords = ['casino', 'they']\n",
    "    >>> multi_word_search(doc_list, keywords)\n",
    "    {'casino': [0, 1], 'they': [1]}\n",
    "    \"\"\"\n",
    "    keys = []\n",
    "    values = []\n",
    "    for i, word in enumerate(keywords):\n",
    "        outcome = word_search(doc_list, word)\n",
    "        keys.append(word)\n",
    "        values.append(outcome)\n",
    "    \n",
    "    return dict(zip(keys, values))\n",
    "\n",
    "# Check your answer\n",
    "q3.check()"
   ]
  },
  {
   "cell_type": "code",
   "execution_count": 12,
   "id": "43474915",
   "metadata": {
    "execution": {
     "iopub.execute_input": "2022-09-05T06:21:26.744122Z",
     "iopub.status.busy": "2022-09-05T06:21:26.743441Z",
     "iopub.status.idle": "2022-09-05T06:21:26.748516Z",
     "shell.execute_reply": "2022-09-05T06:21:26.747729Z"
    },
    "papermill": {
     "duration": 0.016215,
     "end_time": "2022-09-05T06:21:26.750683",
     "exception": false,
     "start_time": "2022-09-05T06:21:26.734468",
     "status": "completed"
    },
    "tags": []
   },
   "outputs": [],
   "source": [
    "#q3.solution()"
   ]
  },
  {
   "cell_type": "markdown",
   "id": "e2be7a31",
   "metadata": {
    "papermill": {
     "duration": 0.00693,
     "end_time": "2022-09-05T06:21:26.764918",
     "exception": false,
     "start_time": "2022-09-05T06:21:26.757988",
     "status": "completed"
    },
    "tags": []
   },
   "source": [
    "# Keep Going\n",
    "\n",
    "You've learned a lot. But even the best programmers rely heavily on \"libraries\" of code from other programmers. You'll learn about that in **[the last lesson](https://www.kaggle.com/colinmorris/working-with-external-libraries)**.\n"
   ]
  },
  {
   "cell_type": "markdown",
   "id": "9b36462a",
   "metadata": {
    "papermill": {
     "duration": 0.007097,
     "end_time": "2022-09-05T06:21:26.779171",
     "exception": false,
     "start_time": "2022-09-05T06:21:26.772074",
     "status": "completed"
    },
    "tags": []
   },
   "source": [
    "---\n",
    "\n",
    "\n",
    "\n",
    "\n",
    "*Have questions or comments? Visit the [course discussion forum](https://www.kaggle.com/learn/python/discussion) to chat with other learners.*"
   ]
  }
 ],
 "metadata": {
  "kernelspec": {
   "display_name": "Python 3",
   "language": "python",
   "name": "python3"
  },
  "language_info": {
   "codemirror_mode": {
    "name": "ipython",
    "version": 3
   },
   "file_extension": ".py",
   "mimetype": "text/x-python",
   "name": "python",
   "nbconvert_exporter": "python",
   "pygments_lexer": "ipython3",
   "version": "3.7.12"
  },
  "papermill": {
   "default_parameters": {},
   "duration": 10.351775,
   "end_time": "2022-09-05T06:21:27.610659",
   "environment_variables": {},
   "exception": null,
   "input_path": "__notebook__.ipynb",
   "output_path": "__notebook__.ipynb",
   "parameters": {},
   "start_time": "2022-09-05T06:21:17.258884",
   "version": "2.3.4"
  }
 },
 "nbformat": 4,
 "nbformat_minor": 5
}

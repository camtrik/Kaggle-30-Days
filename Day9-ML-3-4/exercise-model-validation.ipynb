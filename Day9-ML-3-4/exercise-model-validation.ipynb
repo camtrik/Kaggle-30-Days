{
 "cells": [
  {
   "cell_type": "markdown",
   "id": "b044665b",
   "metadata": {
    "papermill": {
     "duration": 0.007645,
     "end_time": "2022-09-05T09:43:44.069513",
     "exception": false,
     "start_time": "2022-09-05T09:43:44.061868",
     "status": "completed"
    },
    "tags": []
   },
   "source": [
    "**This notebook is an exercise in the [Introduction to Machine Learning](https://www.kaggle.com/learn/intro-to-machine-learning) course.  You can reference the tutorial at [this link](https://www.kaggle.com/dansbecker/model-validation).**\n",
    "\n",
    "---\n"
   ]
  },
  {
   "cell_type": "markdown",
   "id": "936d2451",
   "metadata": {
    "papermill": {
     "duration": 0.003939,
     "end_time": "2022-09-05T09:43:44.079096",
     "exception": false,
     "start_time": "2022-09-05T09:43:44.075157",
     "status": "completed"
    },
    "tags": []
   },
   "source": [
    "## Recap\n",
    "You've built a model. In this exercise you will test how good your model is.\n",
    "\n",
    "Run the cell below to set up your coding environment where the previous exercise left off."
   ]
  },
  {
   "cell_type": "code",
   "execution_count": 1,
   "id": "2bcc09a1",
   "metadata": {
    "execution": {
     "iopub.execute_input": "2022-09-05T09:43:44.089761Z",
     "iopub.status.busy": "2022-09-05T09:43:44.088819Z",
     "iopub.status.idle": "2022-09-05T09:43:45.320038Z",
     "shell.execute_reply": "2022-09-05T09:43:45.318754Z"
    },
    "papermill": {
     "duration": 1.240482,
     "end_time": "2022-09-05T09:43:45.323510",
     "exception": false,
     "start_time": "2022-09-05T09:43:44.083028",
     "status": "completed"
    },
    "tags": []
   },
   "outputs": [
    {
     "name": "stdout",
     "output_type": "stream",
     "text": [
      "First in-sample predictions: [208500. 181500. 223500. 140000. 250000.]\n",
      "Actual target values for those homes: [208500, 181500, 223500, 140000, 250000]\n",
      "Setup Complete\n"
     ]
    }
   ],
   "source": [
    "# Code you have previously used to load data\n",
    "import pandas as pd\n",
    "from sklearn.tree import DecisionTreeRegressor\n",
    "\n",
    "# Path of the file to read\n",
    "iowa_file_path = '../input/home-data-for-ml-course/train.csv'\n",
    "\n",
    "home_data = pd.read_csv(iowa_file_path)\n",
    "y = home_data.SalePrice\n",
    "feature_columns = ['LotArea', 'YearBuilt', '1stFlrSF', '2ndFlrSF', 'FullBath', 'BedroomAbvGr', 'TotRmsAbvGrd']\n",
    "X = home_data[feature_columns]\n",
    "\n",
    "# Specify Model\n",
    "iowa_model = DecisionTreeRegressor()\n",
    "# Fit Model\n",
    "iowa_model.fit(X, y)\n",
    "\n",
    "print(\"First in-sample predictions:\", iowa_model.predict(X.head()))\n",
    "print(\"Actual target values for those homes:\", y.head().tolist())\n",
    "\n",
    "# Set up code checking\n",
    "from learntools.core import binder\n",
    "binder.bind(globals())\n",
    "from learntools.machine_learning.ex4 import *\n",
    "print(\"Setup Complete\")"
   ]
  },
  {
   "cell_type": "markdown",
   "id": "caed6f85",
   "metadata": {
    "papermill": {
     "duration": 0.004025,
     "end_time": "2022-09-05T09:43:45.332554",
     "exception": false,
     "start_time": "2022-09-05T09:43:45.328529",
     "status": "completed"
    },
    "tags": []
   },
   "source": [
    "# Exercises\n",
    "\n",
    "## Step 1: Split Your Data\n",
    "Use the `train_test_split` function to split up your data.\n",
    "\n",
    "Give it the argument `random_state=1` so the `check` functions know what to expect when verifying your code.\n",
    "\n",
    "Recall, your features are loaded in the DataFrame **X** and your target is loaded in **y**.\n"
   ]
  },
  {
   "cell_type": "code",
   "execution_count": 2,
   "id": "b3d04d30",
   "metadata": {
    "execution": {
     "iopub.execute_input": "2022-09-05T09:43:45.343065Z",
     "iopub.status.busy": "2022-09-05T09:43:45.342238Z",
     "iopub.status.idle": "2022-09-05T09:43:45.357809Z",
     "shell.execute_reply": "2022-09-05T09:43:45.356341Z"
    },
    "papermill": {
     "duration": 0.024215,
     "end_time": "2022-09-05T09:43:45.360955",
     "exception": false,
     "start_time": "2022-09-05T09:43:45.336740",
     "status": "completed"
    },
    "tags": []
   },
   "outputs": [
    {
     "data": {
      "application/javascript": [
       "parent.postMessage({\"jupyterEvent\": \"custom.exercise_interaction\", \"data\": {\"outcomeType\": 1, \"valueTowardsCompletion\": 0.25, \"interactionType\": 1, \"questionType\": 2, \"questionId\": \"1_SplitData\", \"learnToolsVersion\": \"0.3.4\", \"failureMessage\": \"\", \"exceptionClass\": \"\", \"trace\": \"\"}}, \"*\")"
      ],
      "text/plain": [
       "<IPython.core.display.Javascript object>"
      ]
     },
     "metadata": {},
     "output_type": "display_data"
    },
    {
     "data": {
      "text/markdown": [
       "<span style=\"color:#33cc33\">Correct</span>"
      ],
      "text/plain": [
       "Correct"
      ]
     },
     "metadata": {},
     "output_type": "display_data"
    }
   ],
   "source": [
    "# Import the train_test_split function and uncomment\n",
    "from sklearn.model_selection import train_test_split\n",
    "\n",
    "# fill in and uncomment\n",
    "train_X, val_X, train_y, val_y = train_test_split(X, y, random_state=1)\n",
    "\n",
    "# Check your answer\n",
    "step_1.check()"
   ]
  },
  {
   "cell_type": "code",
   "execution_count": 3,
   "id": "d9982dcf",
   "metadata": {
    "execution": {
     "iopub.execute_input": "2022-09-05T09:43:45.376445Z",
     "iopub.status.busy": "2022-09-05T09:43:45.376084Z",
     "iopub.status.idle": "2022-09-05T09:43:45.380692Z",
     "shell.execute_reply": "2022-09-05T09:43:45.379346Z"
    },
    "papermill": {
     "duration": 0.01659,
     "end_time": "2022-09-05T09:43:45.382797",
     "exception": false,
     "start_time": "2022-09-05T09:43:45.366207",
     "status": "completed"
    },
    "tags": []
   },
   "outputs": [],
   "source": [
    "# The lines below will show you a hint or the solution.\n",
    "# step_1.hint() \n",
    "# step_1.solution()\n"
   ]
  },
  {
   "cell_type": "markdown",
   "id": "7254f07d",
   "metadata": {
    "papermill": {
     "duration": 0.005821,
     "end_time": "2022-09-05T09:43:45.393364",
     "exception": false,
     "start_time": "2022-09-05T09:43:45.387543",
     "status": "completed"
    },
    "tags": []
   },
   "source": [
    "## Step 2: Specify and Fit the Model\n",
    "\n",
    "Create a `DecisionTreeRegressor` model and fit it to the relevant data.\n",
    "Set `random_state` to 1 again when creating the model."
   ]
  },
  {
   "cell_type": "code",
   "execution_count": 4,
   "id": "4208dbf2",
   "metadata": {
    "execution": {
     "iopub.execute_input": "2022-09-05T09:43:45.406033Z",
     "iopub.status.busy": "2022-09-05T09:43:45.405370Z",
     "iopub.status.idle": "2022-09-05T09:43:45.434713Z",
     "shell.execute_reply": "2022-09-05T09:43:45.433694Z"
    },
    "papermill": {
     "duration": 0.038877,
     "end_time": "2022-09-05T09:43:45.437007",
     "exception": false,
     "start_time": "2022-09-05T09:43:45.398130",
     "status": "completed"
    },
    "tags": []
   },
   "outputs": [
    {
     "name": "stdout",
     "output_type": "stream",
     "text": [
      "[186500. 184000. 130000.  92000. 164500. 220000. 335000. 144152. 215000.\n",
      " 262000.]\n",
      "[186500. 184000. 130000.  92000. 164500. 220000. 335000. 144152. 215000.\n",
      " 262000.]\n"
     ]
    },
    {
     "data": {
      "application/javascript": [
       "parent.postMessage({\"jupyterEvent\": \"custom.exercise_interaction\", \"data\": {\"outcomeType\": 1, \"valueTowardsCompletion\": 0.25, \"interactionType\": 1, \"questionType\": 2, \"questionId\": \"2_FitModelWithTrain\", \"learnToolsVersion\": \"0.3.4\", \"failureMessage\": \"\", \"exceptionClass\": \"\", \"trace\": \"\"}}, \"*\")"
      ],
      "text/plain": [
       "<IPython.core.display.Javascript object>"
      ]
     },
     "metadata": {},
     "output_type": "display_data"
    },
    {
     "data": {
      "text/markdown": [
       "<span style=\"color:#33cc33\">Correct</span>"
      ],
      "text/plain": [
       "Correct"
      ]
     },
     "metadata": {},
     "output_type": "display_data"
    }
   ],
   "source": [
    "# You imported DecisionTreeRegressor in your last exercise\n",
    "# and that code has been copied to the setup code above. So, no need to\n",
    "# import it again\n",
    "\n",
    "# Specify the model\n",
    "iowa_model = DecisionTreeRegressor(random_state=1)\n",
    "\n",
    "# Fit iowa_model with the training data.\n",
    "iowa_model.fit(train_X, train_y)\n",
    "\n",
    "# Check your answer\n",
    "step_2.check()"
   ]
  },
  {
   "cell_type": "code",
   "execution_count": 5,
   "id": "7698a58a",
   "metadata": {
    "execution": {
     "iopub.execute_input": "2022-09-05T09:43:45.449946Z",
     "iopub.status.busy": "2022-09-05T09:43:45.449599Z",
     "iopub.status.idle": "2022-09-05T09:43:45.453581Z",
     "shell.execute_reply": "2022-09-05T09:43:45.452483Z"
    },
    "papermill": {
     "duration": 0.013564,
     "end_time": "2022-09-05T09:43:45.455749",
     "exception": false,
     "start_time": "2022-09-05T09:43:45.442185",
     "status": "completed"
    },
    "tags": []
   },
   "outputs": [],
   "source": [
    "# step_2.hint()\n",
    "# step_2.solution()"
   ]
  },
  {
   "cell_type": "markdown",
   "id": "56f31a8a",
   "metadata": {
    "papermill": {
     "duration": 0.004418,
     "end_time": "2022-09-05T09:43:45.465103",
     "exception": false,
     "start_time": "2022-09-05T09:43:45.460685",
     "status": "completed"
    },
    "tags": []
   },
   "source": [
    "## Step 3: Make Predictions with Validation data\n"
   ]
  },
  {
   "cell_type": "code",
   "execution_count": 6,
   "id": "824ffe69",
   "metadata": {
    "execution": {
     "iopub.execute_input": "2022-09-05T09:43:45.476528Z",
     "iopub.status.busy": "2022-09-05T09:43:45.475780Z",
     "iopub.status.idle": "2022-09-05T09:43:45.487829Z",
     "shell.execute_reply": "2022-09-05T09:43:45.487046Z"
    },
    "papermill": {
     "duration": 0.020305,
     "end_time": "2022-09-05T09:43:45.490059",
     "exception": false,
     "start_time": "2022-09-05T09:43:45.469754",
     "status": "completed"
    },
    "tags": []
   },
   "outputs": [
    {
     "data": {
      "application/javascript": [
       "parent.postMessage({\"jupyterEvent\": \"custom.exercise_interaction\", \"data\": {\"outcomeType\": 1, \"valueTowardsCompletion\": 0.25, \"interactionType\": 1, \"questionType\": 2, \"questionId\": \"3_ValPreds\", \"learnToolsVersion\": \"0.3.4\", \"failureMessage\": \"\", \"exceptionClass\": \"\", \"trace\": \"\"}}, \"*\")"
      ],
      "text/plain": [
       "<IPython.core.display.Javascript object>"
      ]
     },
     "metadata": {},
     "output_type": "display_data"
    },
    {
     "data": {
      "text/markdown": [
       "<span style=\"color:#33cc33\">Correct</span>"
      ],
      "text/plain": [
       "Correct"
      ]
     },
     "metadata": {},
     "output_type": "display_data"
    }
   ],
   "source": [
    "# Predict with all validation observations\n",
    "val_predictions = iowa_model.predict(val_X)\n",
    "\n",
    "# Check your answer\n",
    "step_3.check()"
   ]
  },
  {
   "cell_type": "code",
   "execution_count": 7,
   "id": "7769890c",
   "metadata": {
    "execution": {
     "iopub.execute_input": "2022-09-05T09:43:45.501744Z",
     "iopub.status.busy": "2022-09-05T09:43:45.500833Z",
     "iopub.status.idle": "2022-09-05T09:43:45.504611Z",
     "shell.execute_reply": "2022-09-05T09:43:45.503887Z"
    },
    "papermill": {
     "duration": 0.011435,
     "end_time": "2022-09-05T09:43:45.506455",
     "exception": false,
     "start_time": "2022-09-05T09:43:45.495020",
     "status": "completed"
    },
    "tags": []
   },
   "outputs": [],
   "source": [
    "# step_3.hint()\n",
    "# step_3.solution()"
   ]
  },
  {
   "cell_type": "markdown",
   "id": "1b8e1262",
   "metadata": {
    "papermill": {
     "duration": 0.004587,
     "end_time": "2022-09-05T09:43:45.516121",
     "exception": false,
     "start_time": "2022-09-05T09:43:45.511534",
     "status": "completed"
    },
    "tags": []
   },
   "source": [
    "Inspect your predictions and actual values from validation data."
   ]
  },
  {
   "cell_type": "code",
   "execution_count": 8,
   "id": "e5d7eefb",
   "metadata": {
    "execution": {
     "iopub.execute_input": "2022-09-05T09:43:45.527800Z",
     "iopub.status.busy": "2022-09-05T09:43:45.527284Z",
     "iopub.status.idle": "2022-09-05T09:43:45.533603Z",
     "shell.execute_reply": "2022-09-05T09:43:45.532016Z"
    },
    "papermill": {
     "duration": 0.014688,
     "end_time": "2022-09-05T09:43:45.535798",
     "exception": false,
     "start_time": "2022-09-05T09:43:45.521110",
     "status": "completed"
    },
    "tags": []
   },
   "outputs": [
    {
     "name": "stdout",
     "output_type": "stream",
     "text": [
      "[186500. 184000. 130000.]\n",
      "258    231500\n",
      "267    179500\n",
      "288    122000\n",
      "Name: SalePrice, dtype: int64\n"
     ]
    }
   ],
   "source": [
    "# print the top few validation predictions\n",
    "print(val_predictions[:3])\n",
    "# print the top few actual prices from validation data\n",
    "print(val_y[:3])"
   ]
  },
  {
   "cell_type": "markdown",
   "id": "5fcb1a01",
   "metadata": {
    "papermill": {
     "duration": 0.004557,
     "end_time": "2022-09-05T09:43:45.545471",
     "exception": false,
     "start_time": "2022-09-05T09:43:45.540914",
     "status": "completed"
    },
    "tags": []
   },
   "source": [
    "What do you notice that is different from what you saw with in-sample predictions (which are printed after the top code cell in this page).\n",
    "\n",
    "Do you remember why validation predictions differ from in-sample (or training) predictions? This is an important idea from the last lesson.\n",
    "\n",
    "## Step 4: Calculate the Mean Absolute Error in Validation Data\n"
   ]
  },
  {
   "cell_type": "code",
   "execution_count": 9,
   "id": "65dff239",
   "metadata": {
    "execution": {
     "iopub.execute_input": "2022-09-05T09:43:45.556759Z",
     "iopub.status.busy": "2022-09-05T09:43:45.556421Z",
     "iopub.status.idle": "2022-09-05T09:43:45.565822Z",
     "shell.execute_reply": "2022-09-05T09:43:45.564703Z"
    },
    "papermill": {
     "duration": 0.017556,
     "end_time": "2022-09-05T09:43:45.567910",
     "exception": false,
     "start_time": "2022-09-05T09:43:45.550354",
     "status": "completed"
    },
    "tags": []
   },
   "outputs": [
    {
     "data": {
      "application/javascript": [
       "parent.postMessage({\"jupyterEvent\": \"custom.exercise_interaction\", \"data\": {\"outcomeType\": 1, \"valueTowardsCompletion\": 0.25, \"interactionType\": 1, \"questionType\": 1, \"questionId\": \"4_MAE\", \"learnToolsVersion\": \"0.3.4\", \"failureMessage\": \"\", \"exceptionClass\": \"\", \"trace\": \"\"}}, \"*\")"
      ],
      "text/plain": [
       "<IPython.core.display.Javascript object>"
      ]
     },
     "metadata": {},
     "output_type": "display_data"
    },
    {
     "data": {
      "text/markdown": [
       "<span style=\"color:#33cc33\">Correct</span>"
      ],
      "text/plain": [
       "Correct"
      ]
     },
     "metadata": {},
     "output_type": "display_data"
    }
   ],
   "source": [
    "from sklearn.metrics import mean_absolute_error\n",
    "val_mae = mean_absolute_error(val_y, val_predictions)\n",
    "\n",
    "# uncomment following line to see the validation_mae\n",
    "#print(val_mae)\n",
    "\n",
    "# Check your answer\n",
    "step_4.check()"
   ]
  },
  {
   "cell_type": "code",
   "execution_count": 10,
   "id": "14b50f57",
   "metadata": {
    "execution": {
     "iopub.execute_input": "2022-09-05T09:43:45.579716Z",
     "iopub.status.busy": "2022-09-05T09:43:45.579412Z",
     "iopub.status.idle": "2022-09-05T09:43:45.583400Z",
     "shell.execute_reply": "2022-09-05T09:43:45.582479Z"
    },
    "papermill": {
     "duration": 0.012379,
     "end_time": "2022-09-05T09:43:45.585491",
     "exception": false,
     "start_time": "2022-09-05T09:43:45.573112",
     "status": "completed"
    },
    "tags": []
   },
   "outputs": [],
   "source": [
    "# step_4.hint()\n",
    "# step_4.solution()"
   ]
  },
  {
   "cell_type": "markdown",
   "id": "7c337a35",
   "metadata": {
    "papermill": {
     "duration": 0.005018,
     "end_time": "2022-09-05T09:43:45.595794",
     "exception": false,
     "start_time": "2022-09-05T09:43:45.590776",
     "status": "completed"
    },
    "tags": []
   },
   "source": [
    "Is that MAE good?  There isn't a general rule for what values are good that applies across applications. But you'll see how to use (and improve) this number in the next step.\n",
    "\n",
    "# Keep Going\n",
    "\n",
    "You are ready for **[Underfitting and Overfitting](https://www.kaggle.com/dansbecker/underfitting-and-overfitting).**\n"
   ]
  },
  {
   "cell_type": "markdown",
   "id": "1d2c3eed",
   "metadata": {
    "papermill": {
     "duration": 0.00592,
     "end_time": "2022-09-05T09:43:45.606928",
     "exception": false,
     "start_time": "2022-09-05T09:43:45.601008",
     "status": "completed"
    },
    "tags": []
   },
   "source": [
    "---\n",
    "\n",
    "\n",
    "\n",
    "\n",
    "*Have questions or comments? Visit the [course discussion forum](https://www.kaggle.com/learn/intro-to-machine-learning/discussion) to chat with other learners.*"
   ]
  }
 ],
 "metadata": {
  "kernelspec": {
   "display_name": "Python 3",
   "language": "python",
   "name": "python3"
  },
  "language_info": {
   "codemirror_mode": {
    "name": "ipython",
    "version": 3
   },
   "file_extension": ".py",
   "mimetype": "text/x-python",
   "name": "python",
   "nbconvert_exporter": "python",
   "pygments_lexer": "ipython3",
   "version": "3.7.12"
  },
  "papermill": {
   "default_parameters": {},
   "duration": 11.292787,
   "end_time": "2022-09-05T09:43:46.333317",
   "environment_variables": {},
   "exception": null,
   "input_path": "__notebook__.ipynb",
   "output_path": "__notebook__.ipynb",
   "parameters": {},
   "start_time": "2022-09-05T09:43:35.040530",
   "version": "2.3.4"
  }
 },
 "nbformat": 4,
 "nbformat_minor": 5
}

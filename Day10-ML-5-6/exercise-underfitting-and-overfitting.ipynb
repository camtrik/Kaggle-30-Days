{
 "cells": [
  {
   "cell_type": "markdown",
   "id": "955e2395",
   "metadata": {
    "papermill": {
     "duration": 0.004781,
     "end_time": "2022-09-05T10:18:07.298673",
     "exception": false,
     "start_time": "2022-09-05T10:18:07.293892",
     "status": "completed"
    },
    "tags": []
   },
   "source": [
    "**This notebook is an exercise in the [Introduction to Machine Learning](https://www.kaggle.com/learn/intro-to-machine-learning) course.  You can reference the tutorial at [this link](https://www.kaggle.com/dansbecker/underfitting-and-overfitting).**\n",
    "\n",
    "---\n"
   ]
  },
  {
   "cell_type": "markdown",
   "id": "e3b7820c",
   "metadata": {
    "papermill": {
     "duration": 0.003224,
     "end_time": "2022-09-05T10:18:07.305725",
     "exception": false,
     "start_time": "2022-09-05T10:18:07.302501",
     "status": "completed"
    },
    "tags": []
   },
   "source": [
    "## Recap\n",
    "You've built your first model, and now it's time to optimize the size of the tree to make better predictions. Run this cell to set up your coding environment where the previous step left off."
   ]
  },
  {
   "cell_type": "code",
   "execution_count": 1,
   "id": "c51095e2",
   "metadata": {
    "execution": {
     "iopub.execute_input": "2022-09-05T10:18:07.315099Z",
     "iopub.status.busy": "2022-09-05T10:18:07.314305Z",
     "iopub.status.idle": "2022-09-05T10:18:08.918028Z",
     "shell.execute_reply": "2022-09-05T10:18:08.916669Z"
    },
    "papermill": {
     "duration": 1.612092,
     "end_time": "2022-09-05T10:18:08.921297",
     "exception": false,
     "start_time": "2022-09-05T10:18:07.309205",
     "status": "completed"
    },
    "tags": []
   },
   "outputs": [
    {
     "name": "stdout",
     "output_type": "stream",
     "text": [
      "Validation MAE: 29,653\n",
      "\n",
      "Setup complete\n"
     ]
    }
   ],
   "source": [
    "# Code you have previously used to load data\n",
    "import pandas as pd\n",
    "from sklearn.metrics import mean_absolute_error\n",
    "from sklearn.model_selection import train_test_split\n",
    "from sklearn.tree import DecisionTreeRegressor\n",
    "\n",
    "\n",
    "# Path of the file to read\n",
    "iowa_file_path = '../input/home-data-for-ml-course/train.csv'\n",
    "\n",
    "home_data = pd.read_csv(iowa_file_path)\n",
    "# Create target object and call it y\n",
    "y = home_data.SalePrice\n",
    "# Create X\n",
    "features = ['LotArea', 'YearBuilt', '1stFlrSF', '2ndFlrSF', 'FullBath', 'BedroomAbvGr', 'TotRmsAbvGrd']\n",
    "X = home_data[features]\n",
    "\n",
    "# Split into validation and training data\n",
    "train_X, val_X, train_y, val_y = train_test_split(X, y, random_state=1)\n",
    "\n",
    "# Specify Model\n",
    "iowa_model = DecisionTreeRegressor(random_state=1)\n",
    "# Fit Model\n",
    "iowa_model.fit(train_X, train_y)\n",
    "\n",
    "# Make validation predictions and calculate mean absolute error\n",
    "val_predictions = iowa_model.predict(val_X)\n",
    "val_mae = mean_absolute_error(val_predictions, val_y)\n",
    "print(\"Validation MAE: {:,.0f}\".format(val_mae))\n",
    "\n",
    "# Set up code checking\n",
    "from learntools.core import binder\n",
    "binder.bind(globals())\n",
    "from learntools.machine_learning.ex5 import *\n",
    "print(\"\\nSetup complete\")"
   ]
  },
  {
   "cell_type": "markdown",
   "id": "e76abbbb",
   "metadata": {
    "papermill": {
     "duration": 0.003499,
     "end_time": "2022-09-05T10:18:08.929100",
     "exception": false,
     "start_time": "2022-09-05T10:18:08.925601",
     "status": "completed"
    },
    "tags": []
   },
   "source": [
    "# Exercises\n",
    "You could write the function `get_mae` yourself. For now, we'll supply it. This is the same function you read about in the previous lesson. Just run the cell below."
   ]
  },
  {
   "cell_type": "code",
   "execution_count": 2,
   "id": "fa148e1a",
   "metadata": {
    "execution": {
     "iopub.execute_input": "2022-09-05T10:18:08.938232Z",
     "iopub.status.busy": "2022-09-05T10:18:08.937820Z",
     "iopub.status.idle": "2022-09-05T10:18:08.944666Z",
     "shell.execute_reply": "2022-09-05T10:18:08.943465Z"
    },
    "papermill": {
     "duration": 0.014379,
     "end_time": "2022-09-05T10:18:08.947138",
     "exception": false,
     "start_time": "2022-09-05T10:18:08.932759",
     "status": "completed"
    },
    "tags": []
   },
   "outputs": [],
   "source": [
    "def get_mae(max_leaf_nodes, train_X, val_X, train_y, val_y):\n",
    "    model = DecisionTreeRegressor(max_leaf_nodes=max_leaf_nodes, random_state=0)\n",
    "    model.fit(train_X, train_y)\n",
    "    preds_val = model.predict(val_X)\n",
    "    mae = mean_absolute_error(val_y, preds_val)\n",
    "    return(mae)"
   ]
  },
  {
   "cell_type": "markdown",
   "id": "b171e81a",
   "metadata": {
    "papermill": {
     "duration": 0.003392,
     "end_time": "2022-09-05T10:18:08.954326",
     "exception": false,
     "start_time": "2022-09-05T10:18:08.950934",
     "status": "completed"
    },
    "tags": []
   },
   "source": [
    "## Step 1: Compare Different Tree Sizes\n",
    "Write a loop that tries the following values for *max_leaf_nodes* from a set of possible values.\n",
    "\n",
    "Call the *get_mae* function on each value of max_leaf_nodes. Store the output in some way that allows you to select the value of `max_leaf_nodes` that gives the most accurate model on your data."
   ]
  },
  {
   "cell_type": "code",
   "execution_count": 3,
   "id": "a3a176ce",
   "metadata": {
    "execution": {
     "iopub.execute_input": "2022-09-05T10:18:08.963365Z",
     "iopub.status.busy": "2022-09-05T10:18:08.962981Z",
     "iopub.status.idle": "2022-09-05T10:18:09.014453Z",
     "shell.execute_reply": "2022-09-05T10:18:09.013120Z"
    },
    "papermill": {
     "duration": 0.059148,
     "end_time": "2022-09-05T10:18:09.017162",
     "exception": false,
     "start_time": "2022-09-05T10:18:08.958014",
     "status": "completed"
    },
    "tags": []
   },
   "outputs": [
    {
     "data": {
      "application/javascript": [
       "parent.postMessage({\"jupyterEvent\": \"custom.exercise_interaction\", \"data\": {\"outcomeType\": 1, \"valueTowardsCompletion\": 0.5, \"interactionType\": 1, \"questionType\": 1, \"questionId\": \"1_BestTreeSize\", \"learnToolsVersion\": \"0.3.4\", \"failureMessage\": \"\", \"exceptionClass\": \"\", \"trace\": \"\"}}, \"*\")"
      ],
      "text/plain": [
       "<IPython.core.display.Javascript object>"
      ]
     },
     "metadata": {},
     "output_type": "display_data"
    },
    {
     "data": {
      "text/markdown": [
       "<span style=\"color:#33cc33\">Correct</span>"
      ],
      "text/plain": [
       "Correct"
      ]
     },
     "metadata": {},
     "output_type": "display_data"
    }
   ],
   "source": [
    "candidate_max_leaf_nodes = [5, 25, 50, 100, 250, 500]\n",
    "# Write loop to find the ideal tree size from candidate_max_leaf_nodes\n",
    "best_loss = 99999\n",
    "nodes = 0\n",
    "for i in candidate_max_leaf_nodes:\n",
    "    loss = get_mae(i, train_X, val_X, train_y, val_y)\n",
    "    if loss < best_loss:\n",
    "        best_loss = loss\n",
    "        nodes = i\n",
    "\n",
    "# Store the best value of max_leaf_nodes (it will be either 5, 25, 50, 100, 250 or 500)\n",
    "best_tree_size = nodes\n",
    "\n",
    "# Check your answer\n",
    "step_1.check()"
   ]
  },
  {
   "cell_type": "code",
   "execution_count": 4,
   "id": "e76721cd",
   "metadata": {
    "execution": {
     "iopub.execute_input": "2022-09-05T10:18:09.027584Z",
     "iopub.status.busy": "2022-09-05T10:18:09.026497Z",
     "iopub.status.idle": "2022-09-05T10:18:09.031276Z",
     "shell.execute_reply": "2022-09-05T10:18:09.030494Z"
    },
    "papermill": {
     "duration": 0.012203,
     "end_time": "2022-09-05T10:18:09.033463",
     "exception": false,
     "start_time": "2022-09-05T10:18:09.021260",
     "status": "completed"
    },
    "tags": []
   },
   "outputs": [],
   "source": [
    "# The lines below will show you a hint or the solution.\n",
    "# step_1.hint() \n",
    "# step_1.solution()"
   ]
  },
  {
   "cell_type": "markdown",
   "id": "be884ac2",
   "metadata": {
    "papermill": {
     "duration": 0.00388,
     "end_time": "2022-09-05T10:18:09.041479",
     "exception": false,
     "start_time": "2022-09-05T10:18:09.037599",
     "status": "completed"
    },
    "tags": []
   },
   "source": [
    "## Step 2: Fit Model Using All Data\n",
    "You know the best tree size. If you were going to deploy this model in practice, you would make it even more accurate by using all of the data and keeping that tree size.  That is, you don't need to hold out the validation data now that you've made all your modeling decisions."
   ]
  },
  {
   "cell_type": "code",
   "execution_count": 5,
   "id": "e242fe79",
   "metadata": {
    "execution": {
     "iopub.execute_input": "2022-09-05T10:18:09.051227Z",
     "iopub.status.busy": "2022-09-05T10:18:09.050491Z",
     "iopub.status.idle": "2022-09-05T10:18:09.057376Z",
     "shell.execute_reply": "2022-09-05T10:18:09.056193Z"
    },
    "papermill": {
     "duration": 0.014247,
     "end_time": "2022-09-05T10:18:09.059608",
     "exception": false,
     "start_time": "2022-09-05T10:18:09.045361",
     "status": "completed"
    },
    "tags": []
   },
   "outputs": [
    {
     "data": {
      "text/plain": [
       "100"
      ]
     },
     "execution_count": 5,
     "metadata": {},
     "output_type": "execute_result"
    }
   ],
   "source": [
    "best_tree_size"
   ]
  },
  {
   "cell_type": "code",
   "execution_count": 6,
   "id": "f982398e",
   "metadata": {
    "execution": {
     "iopub.execute_input": "2022-09-05T10:18:09.070166Z",
     "iopub.status.busy": "2022-09-05T10:18:09.069470Z",
     "iopub.status.idle": "2022-09-05T10:18:09.086660Z",
     "shell.execute_reply": "2022-09-05T10:18:09.085523Z"
    },
    "papermill": {
     "duration": 0.02505,
     "end_time": "2022-09-05T10:18:09.089011",
     "exception": false,
     "start_time": "2022-09-05T10:18:09.063961",
     "status": "completed"
    },
    "tags": []
   },
   "outputs": [
    {
     "data": {
      "application/javascript": [
       "parent.postMessage({\"jupyterEvent\": \"custom.exercise_interaction\", \"data\": {\"outcomeType\": 1, \"valueTowardsCompletion\": 0.5, \"interactionType\": 1, \"questionType\": 2, \"questionId\": \"2_FitModelWithAllData\", \"learnToolsVersion\": \"0.3.4\", \"failureMessage\": \"\", \"exceptionClass\": \"\", \"trace\": \"\"}}, \"*\")"
      ],
      "text/plain": [
       "<IPython.core.display.Javascript object>"
      ]
     },
     "metadata": {},
     "output_type": "display_data"
    },
    {
     "data": {
      "text/markdown": [
       "<span style=\"color:#33cc33\">Correct</span>"
      ],
      "text/plain": [
       "Correct"
      ]
     },
     "metadata": {},
     "output_type": "display_data"
    }
   ],
   "source": [
    "# Fill in argument to make optimal size and uncomment\n",
    "final_model = DecisionTreeRegressor(max_leaf_nodes=best_tree_size, random_state=1)\n",
    "\n",
    "# fit the final model and uncomment the next two lines\n",
    "final_model.fit(X, y)\n",
    "\n",
    "# Check your answer\n",
    "step_2.check()"
   ]
  },
  {
   "cell_type": "code",
   "execution_count": 7,
   "id": "5e66f70e",
   "metadata": {
    "execution": {
     "iopub.execute_input": "2022-09-05T10:18:09.099472Z",
     "iopub.status.busy": "2022-09-05T10:18:09.099051Z",
     "iopub.status.idle": "2022-09-05T10:18:09.103554Z",
     "shell.execute_reply": "2022-09-05T10:18:09.102355Z"
    },
    "papermill": {
     "duration": 0.012475,
     "end_time": "2022-09-05T10:18:09.105890",
     "exception": false,
     "start_time": "2022-09-05T10:18:09.093415",
     "status": "completed"
    },
    "tags": []
   },
   "outputs": [],
   "source": [
    "# step_2.hint()\n",
    "# step_2.solution()"
   ]
  },
  {
   "cell_type": "markdown",
   "id": "4552e3a5",
   "metadata": {
    "papermill": {
     "duration": 0.004029,
     "end_time": "2022-09-05T10:18:09.114625",
     "exception": false,
     "start_time": "2022-09-05T10:18:09.110596",
     "status": "completed"
    },
    "tags": []
   },
   "source": [
    "You've tuned this model and improved your results. But we are still using Decision Tree models, which are not very sophisticated by modern machine learning standards. In the next step you will learn to use Random Forests to improve your models even more.\n",
    "\n",
    "# Keep Going\n",
    "\n",
    "You are ready for **[Random Forests](https://www.kaggle.com/dansbecker/random-forests).**\n"
   ]
  },
  {
   "cell_type": "markdown",
   "id": "b65888a8",
   "metadata": {
    "papermill": {
     "duration": 0.004119,
     "end_time": "2022-09-05T10:18:09.122955",
     "exception": false,
     "start_time": "2022-09-05T10:18:09.118836",
     "status": "completed"
    },
    "tags": []
   },
   "source": [
    "---\n",
    "\n",
    "\n",
    "\n",
    "\n",
    "*Have questions or comments? Visit the [course discussion forum](https://www.kaggle.com/learn/intro-to-machine-learning/discussion) to chat with other learners.*"
   ]
  }
 ],
 "metadata": {
  "kernelspec": {
   "display_name": "Python 3",
   "language": "python",
   "name": "python3"
  },
  "language_info": {
   "codemirror_mode": {
    "name": "ipython",
    "version": 3
   },
   "file_extension": ".py",
   "mimetype": "text/x-python",
   "name": "python",
   "nbconvert_exporter": "python",
   "pygments_lexer": "ipython3",
   "version": "3.7.12"
  },
  "papermill": {
   "default_parameters": {},
   "duration": 12.343473,
   "end_time": "2022-09-05T10:18:09.951518",
   "environment_variables": {},
   "exception": null,
   "input_path": "__notebook__.ipynb",
   "output_path": "__notebook__.ipynb",
   "parameters": {},
   "start_time": "2022-09-05T10:17:57.608045",
   "version": "2.3.4"
  }
 },
 "nbformat": 4,
 "nbformat_minor": 5
}
